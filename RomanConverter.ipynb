{
 "cells": [
  {
   "cell_type": "markdown",
   "id": "9f16f588",
   "metadata": {},
   "source": [
    "# ROMAN TO DECIMAL NUMBERS"
   ]
  },
  {
   "cell_type": "code",
   "execution_count": 9,
   "id": "26531b12",
   "metadata": {},
   "outputs": [
    {
     "name": "stdout",
     "output_type": "stream",
     "text": [
      "34\n"
     ]
    }
   ],
   "source": [
    "def romantoDecimal(rom):\n",
    "    value={\n",
    "           \"I\":1,\n",
    "           \"V\":5,\n",
    "           \"X\":10,\n",
    "           \"L\":50,\n",
    "           \"C\":100,\n",
    "           \"D\":500,\n",
    "           \"M\":1000\n",
    "          }\n",
    "    prev=0\n",
    "    ans=0\n",
    "    num=len(rom)\n",
    "    for i in range(num-1,-1,-1):\n",
    "        if(value[rom[i]]>=prev):\n",
    "            ans += value[rom[i]]\n",
    "        else:\n",
    "            ans -= value[rom[i]]\n",
    "        prev=value[rom[i]]\n",
    "    print(ans)\n",
    "romantoDecimal(\"XXXIV\")"
   ]
  },
  {
   "cell_type": "markdown",
   "id": "bc67dec9",
   "metadata": {},
   "source": [
    "# INTEGER TO ROMAN NUMERALS"
   ]
  },
  {
   "cell_type": "code",
   "execution_count": 17,
   "id": "9929e867",
   "metadata": {},
   "outputs": [
    {
     "name": "stdout",
     "output_type": "stream",
     "text": [
      "Enter the number:76\n",
      "LXXVI\n"
     ]
    }
   ],
   "source": [
    "num=int(input(\"Enter the number:\"))\n",
    "def inttoRoman(num):\n",
    "    if num>3999:\n",
    "        print(\"Enter the number less than 3999\")\n",
    "        return\n",
    "    value=[1000,900,500,400,100,90,50,40,10,9,5,4,1]\n",
    "    symbol=[\"M\",\"CM\",\"D\",\"CD\",\"C\",\"XC\",\"L\",\"XL\",\"X\",\"IX\",\"V\",\"IV\",\"I\"]\n",
    "    roman=\"\"\n",
    "    i=0\n",
    "    while num>0:\n",
    "        div=num//value[i]\n",
    "        num=num%value[i]\n",
    "        while div:\n",
    "            roman=roman+symbol[i]\n",
    "            div=div-1\n",
    "        i=i+1\n",
    "    return roman     \n",
    "print(inttoRoman(num))"
   ]
  }
 ],
 "metadata": {
  "kernelspec": {
   "display_name": "Python 3",
   "language": "python",
   "name": "python3"
  },
  "language_info": {
   "codemirror_mode": {
    "name": "ipython",
    "version": 3
   },
   "file_extension": ".py",
   "mimetype": "text/x-python",
   "name": "python",
   "nbconvert_exporter": "python",
   "pygments_lexer": "ipython3",
   "version": "3.8.8"
  }
 },
 "nbformat": 4,
 "nbformat_minor": 5
}
