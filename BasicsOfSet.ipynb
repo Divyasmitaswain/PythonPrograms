{
 "cells": [
  {
   "cell_type": "markdown",
   "id": "f59f1e5b",
   "metadata": {},
   "source": [
    "# SET"
   ]
  },
  {
   "cell_type": "code",
   "execution_count": 2,
   "id": "a4c4a366",
   "metadata": {},
   "outputs": [
    {
     "name": "stdout",
     "output_type": "stream",
     "text": [
      "{1, 2, 3, 4}\n",
      "<class 'set'>\n"
     ]
    }
   ],
   "source": [
    "#Creating and printing sets\n",
    "a={1,2,3,4}\n",
    "print(a)\n",
    "print(type(a))"
   ]
  },
  {
   "cell_type": "code",
   "execution_count": 3,
   "id": "3d509ec2",
   "metadata": {},
   "outputs": [
    {
     "name": "stdout",
     "output_type": "stream",
     "text": [
      "{1, 2, 3, 4, 5}\n"
     ]
    }
   ],
   "source": [
    "#set doesn't support repetative values\n",
    "#set is a collection of non repetative elements\n",
    "a={1,2,3,4,5,1}\n",
    "print(a)"
   ]
  },
  {
   "cell_type": "code",
   "execution_count": 6,
   "id": "f9b7a074",
   "metadata": {},
   "outputs": [
    {
     "name": "stdout",
     "output_type": "stream",
     "text": [
      "{}\n",
      "<class 'dict'>\n",
      "set()\n",
      "<class 'set'>\n",
      "{8, 1, 3, 4}\n"
     ]
    }
   ],
   "source": [
    "#if we want to make an empty set.\n",
    "#this syntax will create an empty dictionary not an empty set.\n",
    "a={}\n",
    "print(a)\n",
    "print(type(a))\n",
    "#an empty set can be created using below syntax:\n",
    "b=set()\n",
    "print(b)\n",
    "print(type(b)) \n",
    "#adding values to an empty set\n",
    "b.add(4)\n",
    "b.add(3)\n",
    "b.add(1)\n",
    "b.add(4)\n",
    "b.add(8)\n",
    "print(b)"
   ]
  },
  {
   "cell_type": "code",
   "execution_count": 2,
   "id": "a0c345f4",
   "metadata": {
    "scrolled": true
   },
   "outputs": [
    {
     "name": "stdout",
     "output_type": "stream",
     "text": [
      "{(9, 2, 6)}\n"
     ]
    }
   ],
   "source": [
    "#If we want to add list in a set\n",
    "# b.add([9,2,6])\n",
    "# print(b)     #we can't add list ina set.because list can be changable.\n",
    "#if we want to add tuple in a set.\n",
    "b=set()\n",
    "b.add((9,2,6))\n",
    "print(b)     #Yes, we can add tuple in list because just like set this is also hashable.\n",
    "#if we want to add dictionary in a set.\n",
    "# b.add({4:5})\n",
    "# print(b)      #we can't add dictionary also because its unhashable(means we can change the value in dictionary)."
   ]
  },
  {
   "cell_type": "code",
   "execution_count": 13,
   "id": "e8372f04",
   "metadata": {},
   "outputs": [
    {
     "name": "stdout",
     "output_type": "stream",
     "text": [
      "4\n",
      "{9, 12, (4, 5, 6)}\n",
      "9\n",
      "None\n",
      "{9, (7, 8), 12, (4, 5, 6)}\n",
      "{9, (7, 8), 12, (4, 5, 6)}\n",
      "{9, (7, 8), 12, (4, 5, 6)}\n"
     ]
    }
   ],
   "source": [
    "b={(4,5,6),(7,8),9,12}\n",
    "print(len(b))     #for printing length of a set.\n",
    "b.remove((7,8))   #for removing an element from set.\n",
    "print(b)   \n",
    "print(b.pop())    #Removes an arbitary element from the set and returns the element removed.\n",
    "print(b.clear())  #empties the set and return None."
   ]
  },
  {
   "cell_type": "code",
   "execution_count": 21,
   "id": "822ed02b",
   "metadata": {},
   "outputs": [
    {
     "name": "stdout",
     "output_type": "stream",
     "text": [
      "A U B : {1, 2, 3, 4, 5, 6, 7, 8, 9}\n",
      "C n D: {3, 4, 5}\n"
     ]
    }
   ],
   "source": [
    "#Union of two sets.\n",
    "A={1,2,3,4,5,6}\n",
    "B={7,8,9}\n",
    "print(\"A U B :\",A.union(B))\n",
    "#Intersection of two sets.\n",
    "C={1,2,3,4,5}\n",
    "D={3,4,5,6}\n",
    "print(\"C n D:\",C.intersection(D))"
   ]
  }
 ],
 "metadata": {
  "kernelspec": {
   "display_name": "Python 3",
   "language": "python",
   "name": "python3"
  },
  "language_info": {
   "codemirror_mode": {
    "name": "ipython",
    "version": 3
   },
   "file_extension": ".py",
   "mimetype": "text/x-python",
   "name": "python",
   "nbconvert_exporter": "python",
   "pygments_lexer": "ipython3",
   "version": "3.8.8"
  }
 },
 "nbformat": 4,
 "nbformat_minor": 5
}
