{
 "cells": [
  {
   "cell_type": "code",
   "execution_count": null,
   "id": "f69ddf93",
   "metadata": {},
   "outputs": [],
   "source": [
    "#Super() is used to access the methods of a super class in the derived class."
   ]
  },
  {
   "cell_type": "code",
   "execution_count": 1,
   "id": "25b38d50",
   "metadata": {},
   "outputs": [
    {
     "name": "stdout",
     "output_type": "stream",
     "text": [
      "I'm breathing......\n",
      "I am an employee so I am luckily breathing \n",
      "I am an employee so I am luckily breathing \n",
      "I am an Programmer so I am luckily breathing++ \n"
     ]
    }
   ],
   "source": [
    "class Person:\n",
    "    country=\"India\"\n",
    "    \n",
    "    def takeBreath(self):\n",
    "        print(\"I'm breathing......\")\n",
    "        \n",
    "class Employee(Person):\n",
    "    company=\"Honda\"\n",
    "    \n",
    "    def getSalary(self):\n",
    "        print(\"salary is 300\")\n",
    "        \n",
    "    def takeBreath(self):\n",
    "        print(\"I am an employee so I am luckily breathing \")\n",
    "        \n",
    "class Programmer(Employee):\n",
    "    company=\"Fiverr\"\n",
    "    \n",
    "    def getSalary(self):\n",
    "        print(\"No salary to progrramers.\")\n",
    "        \n",
    "    def takeBreath(self):\n",
    "        super().takeBreath()       #It calls the parent class function first.\n",
    "        print(\"I am an Programmer so I am luckily breathing++ \")    \n",
    "        \n",
    "p=Person()          \n",
    "p.takeBreath()        \n",
    "\n",
    "e=Employee()      \n",
    "e.takeBreath()\n",
    "\n",
    "pr=Programmer()       \n",
    "pr.takeBreath()"
   ]
  },
  {
   "cell_type": "code",
   "execution_count": 5,
   "id": "91ccb9f4",
   "metadata": {},
   "outputs": [
    {
     "name": "stdout",
     "output_type": "stream",
     "text": [
      "Initializing Person\n",
      "Initializing Employee\n",
      "Initializing Programmer\n"
     ]
    }
   ],
   "source": [
    "#We can use super() to run the constructor.\n",
    "class Person:\n",
    "    country=\"India\"\n",
    "    \n",
    "    def __init__(self):\n",
    "        print(\"Initializing Person\")\n",
    "    \n",
    "    def takeBreath(self):\n",
    "        print(\"I'm breathing......\")\n",
    "        \n",
    "class Employee(Person):\n",
    "    company=\"Honda\"\n",
    "    \n",
    "    def __init__(self):\n",
    "        super().__init__()\n",
    "        print(\"Initializing Employee\")\n",
    "        \n",
    "    def getSalary(self):\n",
    "        print(\"salary is 300\")\n",
    "        \n",
    "    def takeBreath(self):\n",
    "        print(\"I am an employee so I am luckily breathing \")\n",
    "        \n",
    "class Programmer(Employee):\n",
    "    company=\"Fiverr\"\n",
    "    \n",
    "    def __init__(self):\n",
    "        super().__init__()\n",
    "        print(\"Initializing Programmer\")\n",
    "        \n",
    "    def getSalary(self):\n",
    "        print(\"No salary to progrramers.\")\n",
    "        \n",
    "    def takeBreath(self):\n",
    "        super().takeBreath()       \n",
    "        print(\"I am an Programmer so I am luckily breathing++ \")    \n",
    "        \n",
    "# e=Employee()    \n",
    "pr=Programmer()"
   ]
  }
 ],
 "metadata": {
  "kernelspec": {
   "display_name": "Python 3",
   "language": "python",
   "name": "python3"
  },
  "language_info": {
   "codemirror_mode": {
    "name": "ipython",
    "version": 3
   },
   "file_extension": ".py",
   "mimetype": "text/x-python",
   "name": "python",
   "nbconvert_exporter": "python",
   "pygments_lexer": "ipython3",
   "version": "3.8.8"
  }
 },
 "nbformat": 4,
 "nbformat_minor": 5
}
