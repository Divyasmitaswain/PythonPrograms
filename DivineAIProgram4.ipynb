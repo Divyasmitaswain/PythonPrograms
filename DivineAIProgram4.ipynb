{
 "cells": [
  {
   "cell_type": "markdown",
   "id": "a7a2bfe8",
   "metadata": {},
   "source": [
    "Q1.WAPP to add two matrices."
   ]
  },
  {
   "cell_type": "code",
   "execution_count": 8,
   "id": "0bb203f5",
   "metadata": {},
   "outputs": [
    {
     "name": "stdout",
     "output_type": "stream",
     "text": [
      "[5, 7, 9]\n",
      "[8, 10, 12]\n",
      "[11, 13, 15]\n"
     ]
    }
   ],
   "source": [
    "X=[[1,2,3],\n",
    "   [7,8,9],\n",
    "   [4,5,6]]\n",
    "Y=[[4,5,6],\n",
    "   [1,2,3],\n",
    "   [7,8,9]]\n",
    "\n",
    "result=[[0,0,0],\n",
    "        [0,0,0],\n",
    "        [0,0,0]]\n",
    "for i in range(len(X)):\n",
    "    for j in range(len(X[0])):\n",
    "        result[i][j]= X[i][j] + Y[i][j]\n",
    "for r in result:\n",
    "    print(r)"
   ]
  },
  {
   "cell_type": "markdown",
   "id": "427dcde2",
   "metadata": {},
   "source": [
    "Q2.WAPP to add two matrices using nested list comprehension."
   ]
  },
  {
   "cell_type": "code",
   "execution_count": 7,
   "id": "bac8ed4d",
   "metadata": {},
   "outputs": [
    {
     "name": "stdout",
     "output_type": "stream",
     "text": [
      "[5, 7, 9]\n",
      "[8, 10, 12]\n",
      "[11, 13, 15]\n"
     ]
    }
   ],
   "source": [
    "X=[[1,2,3],\n",
    "   [7,8,9],\n",
    "   [4,5,6]]\n",
    "Y=[[4,5,6],\n",
    "   [1,2,3],\n",
    "   [7,8,9]]\n",
    "result=[[X[i][j] + Y[i][j] for j in range(len(X[0]))] for i in range(len(X))]\n",
    "\n",
    "for r in result:\n",
    "    print(r)"
   ]
  },
  {
   "cell_type": "markdown",
   "id": "ec9eb053",
   "metadata": {},
   "source": [
    "Q3.WAPP to transpose a matrix using nested loop."
   ]
  },
  {
   "cell_type": "code",
   "execution_count": 9,
   "id": "7a6aa5c0",
   "metadata": {},
   "outputs": [
    {
     "name": "stdout",
     "output_type": "stream",
     "text": [
      "[1, 7, 4]\n",
      "[2, 8, 5]\n",
      "[3, 9, 6]\n"
     ]
    }
   ],
   "source": [
    "X=[[1,2,3],\n",
    "   [7,8,9],\n",
    "   [4,5,6]]\n",
    "res=[[0,0,0],\n",
    "    [0,0,0],\n",
    "    [0,0,0]]\n",
    "for i in range (len(X)):\n",
    "    for j in range(len(X[0])):\n",
    "        res[j][i]=X[i][j]\n",
    "for r in res:\n",
    "    print(r)"
   ]
  },
  {
   "cell_type": "markdown",
   "id": "3f88857f",
   "metadata": {},
   "source": [
    "Q4.WAPP to transpose a matrix using nested list comprehension."
   ]
  },
  {
   "cell_type": "code",
   "execution_count": 2,
   "id": "3e82fb4d",
   "metadata": {},
   "outputs": [
    {
     "name": "stdout",
     "output_type": "stream",
     "text": [
      "[1, 7, 4]\n",
      "[2, 8, 5]\n",
      "[3, 9, 6]\n"
     ]
    }
   ],
   "source": [
    "X=[[1,2,3],\n",
    "   [7,8,9],\n",
    "   [4,5,6]]\n",
    "res=[[X[j][i] for j in range(len(X))] for i in range (len(X[0]))]\n",
    "\n",
    "for r in res:\n",
    "    print(r)"
   ]
  },
  {
   "cell_type": "markdown",
   "id": "dbbae2e6",
   "metadata": {},
   "source": [
    "Q5.WAPP to multiply two matrices using nested loop."
   ]
  },
  {
   "cell_type": "code",
   "execution_count": 4,
   "id": "d2a79e96",
   "metadata": {},
   "outputs": [
    {
     "name": "stdout",
     "output_type": "stream",
     "text": [
      "[21, 24, 27]\n",
      "[63, 72, 81]\n",
      "[42, 48, 54]\n"
     ]
    }
   ],
   "source": [
    "X=[[1,2,3],\n",
    "   [7,8,9],\n",
    "   [4,5,6]]\n",
    "Y=[[4,5,6],\n",
    "   [1,2,3],\n",
    "   [7,8,9]]\n",
    "res=[[0,0,0],\n",
    "    [0,0,0],\n",
    "    [0,0,0]]\n",
    "for i in range(len(X)):\n",
    "    for j in range(len(X[0])):\n",
    "        for k in range(len(Y[0])):\n",
    "            res[i][j]=X[i][k]*Y[k][j]\n",
    "        \n",
    "for r in res:\n",
    "    print(r)"
   ]
  },
  {
   "cell_type": "markdown",
   "id": "7434e738",
   "metadata": {},
   "source": [
    "Q6.WAPP to multiply two matrices using nested list comprehension."
   ]
  },
  {
   "cell_type": "code",
   "execution_count": 6,
   "id": "6a3f8ae6",
   "metadata": {},
   "outputs": [
    {
     "name": "stdout",
     "output_type": "stream",
     "text": [
      "[27, 33, 39]\n",
      "[99, 123, 147]\n",
      "[63, 78, 93]\n"
     ]
    }
   ],
   "source": [
    "X=[[1,2,3],\n",
    "   [7,8,9],\n",
    "   [4,5,6]]\n",
    "Y=[[4,5,6],\n",
    "   [1,2,3],\n",
    "   [7,8,9]]\n",
    "res=[[sum(a*b for a,b in zip(Xrow,Ycol)) for Ycol in zip(*Y)]for Xrow in X]\n",
    "for r in res:\n",
    "    print(r)"
   ]
  },
  {
   "cell_type": "markdown",
   "id": "a74671b9",
   "metadata": {},
   "source": [
    "Q7.WAPP to check wheather the string is Palindrom or not."
   ]
  },
  {
   "cell_type": "code",
   "execution_count": 7,
   "id": "be22e50e",
   "metadata": {},
   "outputs": [
    {
     "name": "stdout",
     "output_type": "stream",
     "text": [
      "String is not Palindrom\n"
     ]
    }
   ],
   "source": [
    "myStr=\"Divyasmita\"\n",
    "myStr=myStr.casefold()\n",
    "revStr=reversed(myStr)\n",
    "if list(myStr)==list(revStr):\n",
    "    print(\"String is Palindrom\")\n",
    "else:\n",
    "    print(\"String is not Palindrom\")"
   ]
  },
  {
   "cell_type": "markdown",
   "id": "8c7a7c23",
   "metadata": {},
   "source": [
    "Q8.WAPP to remove punctuation from string."
   ]
  },
  {
   "cell_type": "code",
   "execution_count": 9,
   "id": "68da292a",
   "metadata": {},
   "outputs": [
    {
     "name": "stdout",
     "output_type": "stream",
     "text": [
      "Hey im divya  nice to meet you\n"
     ]
    }
   ],
   "source": [
    "punctuations='''#$%^&*()@#$%^&*()@#$%^^&*[]{}!.,'';;:\"\"'''\n",
    "myStr=\"Hey....! i'm divya ,$$$$$&&&&&& nice to meet you\"\n",
    "noPunct=\"\"\n",
    "for char in myStr:\n",
    "    if char not in punctuations:\n",
    "        noPunct=noPunct+ char\n",
    "print(noPunct)        "
   ]
  },
  {
   "cell_type": "markdown",
   "id": "ed304ba8",
   "metadata": {},
   "source": [
    "Q9.WAPP to sort words in alphabetical order."
   ]
  },
  {
   "cell_type": "code",
   "execution_count": 11,
   "id": "b48360fe",
   "metadata": {},
   "outputs": [
    {
     "name": "stdout",
     "output_type": "stream",
     "text": [
      "Sorted words:\n",
      "divya,nice\n",
      "hii\n",
      "i'm\n",
      "meet\n",
      "to\n",
      "you.\n"
     ]
    }
   ],
   "source": [
    "myStr=\"Hii i'm Divya,Nice to meet you.\"\n",
    "word=[words.lower() for words in myStr.split()]\n",
    "word.sort()\n",
    "print(\"Sorted words:\")\n",
    "for words in word:\n",
    "    print(words)\n"
   ]
  },
  {
   "cell_type": "markdown",
   "id": "3df70866",
   "metadata": {},
   "source": [
    "Q10.WAPP to illustrate different set operation."
   ]
  },
  {
   "cell_type": "code",
   "execution_count": 15,
   "id": "77481bfc",
   "metadata": {},
   "outputs": [
    {
     "name": "stdout",
     "output_type": "stream",
     "text": [
      "Union : {0, 2, 3, 4, 5, 7, 8, 9}\n",
      "Intersection :  {9, 7}\n",
      "Difference : {0, 4, 5}\n",
      "symentric difference : {0, 2, 3, 4, 5, 8}\n"
     ]
    }
   ],
   "source": [
    "a={0,5,7,9,4}\n",
    "b={3,7,8,9,2}\n",
    "print(\"Union :\",a|b)\n",
    "print(\"Intersection : \",a&b)\n",
    "print(\"Difference :\",a-b)\n",
    "print(\"symentric difference :\",a^b)"
   ]
  }
 ],
 "metadata": {
  "kernelspec": {
   "display_name": "Python 3",
   "language": "python",
   "name": "python3"
  },
  "language_info": {
   "codemirror_mode": {
    "name": "ipython",
    "version": 3
   },
   "file_extension": ".py",
   "mimetype": "text/x-python",
   "name": "python",
   "nbconvert_exporter": "python",
   "pygments_lexer": "ipython3",
   "version": "3.8.8"
  }
 },
 "nbformat": 4,
 "nbformat_minor": 5
}
