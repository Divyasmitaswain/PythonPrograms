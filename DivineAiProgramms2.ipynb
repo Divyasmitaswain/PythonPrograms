{
 "cells": [
  {
   "cell_type": "markdown",
   "id": "ba3a76af",
   "metadata": {},
   "source": [
    "Q1.WAPP to display the power of 2 using anonymous function."
   ]
  },
  {
   "cell_type": "code",
   "execution_count": 4,
   "id": "96526bf0",
   "metadata": {},
   "outputs": [
    {
     "name": "stdout",
     "output_type": "stream",
     "text": [
      "How many terms?20\n",
      "The total terms are: 20\n",
      "2 raised to power 0 is 1\n",
      "2 raised to power 1 is 2\n",
      "2 raised to power 2 is 4\n",
      "2 raised to power 3 is 8\n",
      "2 raised to power 4 is 16\n",
      "2 raised to power 5 is 32\n",
      "2 raised to power 6 is 64\n",
      "2 raised to power 7 is 128\n",
      "2 raised to power 8 is 256\n",
      "2 raised to power 9 is 512\n",
      "2 raised to power 10 is 1024\n",
      "2 raised to power 11 is 2048\n",
      "2 raised to power 12 is 4096\n",
      "2 raised to power 13 is 8192\n",
      "2 raised to power 14 is 16384\n",
      "2 raised to power 15 is 32768\n",
      "2 raised to power 16 is 65536\n",
      "2 raised to power 17 is 131072\n",
      "2 raised to power 18 is 262144\n",
      "2 raised to power 19 is 524288\n"
     ]
    }
   ],
   "source": [
    "terms=int(input(\"How many terms?\"))\n",
    "result=list(map(lambda x: 2 ** x,range(terms)))\n",
    "print(\"The total terms are:\",terms)\n",
    "for i in range(terms):\n",
    "    print(\"2 raised to power\",i,\"is\",result[i])"
   ]
  },
  {
   "cell_type": "markdown",
   "id": "4e80c998",
   "metadata": {},
   "source": [
    "Q2.WAPP to find numbers divisible by another number."
   ]
  },
  {
   "cell_type": "code",
   "execution_count": 5,
   "id": "dffb0146",
   "metadata": {},
   "outputs": [
    {
     "name": "stdout",
     "output_type": "stream",
     "text": [
      "Nos divisible by 12 [12, 60, 84, 96, 120, 180, 108]\n"
     ]
    }
   ],
   "source": [
    "numbers=[12,64,60,84,96,120,180,108]\n",
    "result=list(filter(lambda x: (x%12==0),numbers))\n",
    "print(\"Nos divisible by 12\",result)"
   ]
  },
  {
   "cell_type": "code",
   "execution_count": null,
   "id": "843e743b",
   "metadata": {},
   "outputs": [],
   "source": [
    "Q3.WAPP to convert decimal number to binary number."
   ]
  },
  {
   "cell_type": "code",
   "execution_count": 6,
   "id": "2e8e17e3",
   "metadata": {},
   "outputs": [
    {
     "name": "stdout",
     "output_type": "stream",
     "text": [
      "Enter the decimal number:13\n",
      "Binary number is : 0b1101\n"
     ]
    }
   ],
   "source": [
    "num=int(input(\"Enter the decimal number:\"))\n",
    "print(\"Binary number is :\",bin(num))"
   ]
  },
  {
   "cell_type": "markdown",
   "id": "315ced1a",
   "metadata": {},
   "source": [
    "Q4.WAPP to convert decimal to hexadecimal number."
   ]
  },
  {
   "cell_type": "code",
   "execution_count": 1,
   "id": "b5c933e8",
   "metadata": {},
   "outputs": [
    {
     "name": "stdout",
     "output_type": "stream",
     "text": [
      "Enter the decimal number:13\n",
      "After converting decimal to hexadecimal: 0xd\n"
     ]
    }
   ],
   "source": [
    "num=int(input(\"Enter the decimal number:\"))\n",
    "print(\"After converting decimal to hexadecimal:\",hex(num))"
   ]
  },
  {
   "cell_type": "markdown",
   "id": "1adf9318",
   "metadata": {},
   "source": [
    "Q5.WAPP to find the ASCII value for the character."
   ]
  },
  {
   "cell_type": "code",
   "execution_count": 2,
   "id": "fa3ac6be",
   "metadata": {},
   "outputs": [
    {
     "name": "stdout",
     "output_type": "stream",
     "text": [
      "Enter a character:a\n",
      "The ASCII value for the character  a  is:  97\n"
     ]
    }
   ],
   "source": [
    "character=input(\"Enter a character:\")\n",
    "print(\"The ASCII value for the character \",character,\" is: \",ord(character))"
   ]
  },
  {
   "cell_type": "markdown",
   "id": "a122a077",
   "metadata": {},
   "source": [
    "Q6.WAPP to find the ASCII value for a string given by the user."
   ]
  },
  {
   "cell_type": "code",
   "execution_count": 5,
   "id": "34541c02",
   "metadata": {},
   "outputs": [
    {
     "name": "stdout",
     "output_type": "stream",
     "text": [
      "Enter the string to find out the ASCII value:DIVYASMITA\n",
      "D \t 68\n",
      "I \t 73\n",
      "V \t 86\n",
      "Y \t 89\n",
      "A \t 65\n",
      "S \t 83\n",
      "M \t 77\n",
      "I \t 73\n",
      "T \t 84\n",
      "A \t 65\n"
     ]
    }
   ],
   "source": [
    "String=input(\"Enter the string to find out the ASCII value:\")\n",
    "for i in String:\n",
    "    ASCII=ord(i)\n",
    "    print(i,\"\\t\",ASCII)"
   ]
  },
  {
   "cell_type": "code",
   "execution_count": null,
   "id": "7f7540bb",
   "metadata": {},
   "outputs": [],
   "source": [
    "Q7.WAPP to convert ASCII value into characters."
   ]
  },
  {
   "cell_type": "code",
   "execution_count": 6,
   "id": "ab37b44a",
   "metadata": {},
   "outputs": [
    {
     "name": "stdout",
     "output_type": "stream",
     "text": [
      "The chararacter for the char1: D\n",
      "The chararacter for the char2: I\n",
      "The chararacter for the char3: V\n",
      "The chararacter for the char4: Y\n",
      "The chararacter for the char5: A\n"
     ]
    }
   ],
   "source": [
    "char1=68\n",
    "char2=73\n",
    "char3=86\n",
    "char4=89\n",
    "char5=65\n",
    "print(\"The chararacter for the char1:\",chr(char1))\n",
    "print(\"The chararacter for the char2:\",chr(char2))\n",
    "print(\"The chararacter for the char3:\",chr(char3))\n",
    "print(\"The chararacter for the char4:\",chr(char4))\n",
    "print(\"The chararacter for the char5:\",chr(char5))"
   ]
  },
  {
   "cell_type": "markdown",
   "id": "44eecace",
   "metadata": {},
   "source": [
    "Q8.WAPP to find HCF or GCD and return the value."
   ]
  },
  {
   "cell_type": "code",
   "execution_count": 11,
   "id": "248a988b",
   "metadata": {},
   "outputs": [
    {
     "name": "stdout",
     "output_type": "stream",
     "text": [
      "Enter the first number:8\n",
      "Enter the second number:12\n",
      "The HCF of  8 and 12  is: 4\n"
     ]
    }
   ],
   "source": [
    "#taking input from the user\n",
    "num1=int(input(\"Enter the first number:\"))\n",
    "num2=int(input(\"Enter the second number:\"))\n",
    "\n",
    "#defining a function to calculate HCF\n",
    "def calculateHCF(x,y):\n",
    "\n",
    "#selecting the smaller number\n",
    "    if x>y:\n",
    "        smaller=y\n",
    "    else:\n",
    "        smaller=x\n",
    "    \n",
    "    for i in range(1,smaller+1):\n",
    "        if((x%i==0)and(y%i==0)):\n",
    "            hcf=i\n",
    "    return hcf   \n",
    "print(\"The HCF of \",num1,\"and\",num2,\" is:\",calculateHCF(num1,num2))    "
   ]
  },
  {
   "cell_type": "markdown",
   "id": "f32a845e",
   "metadata": {},
   "source": [
    "Q9.WAPP to find HCF or GCD and return the value using Euclidian algorithm."
   ]
  },
  {
   "cell_type": "code",
   "execution_count": 14,
   "id": "8f930fc4",
   "metadata": {},
   "outputs": [
    {
     "name": "stdout",
     "output_type": "stream",
     "text": [
      "the HCF is : 6\n"
     ]
    }
   ],
   "source": [
    "def calculateHCF(a,b):\n",
    "    while(b):\n",
    "        a,b=b,a % b\n",
    "    return a\n",
    "hcf=calculateHCF(54,24)\n",
    "print(\"the HCF is :\",hcf)"
   ]
  },
  {
   "cell_type": "markdown",
   "id": "5a8bf502",
   "metadata": {},
   "source": [
    "Q10. WAPP to find the LCM and return the value."
   ]
  },
  {
   "cell_type": "code",
   "execution_count": 15,
   "id": "14f8d504",
   "metadata": {},
   "outputs": [
    {
     "name": "stdout",
     "output_type": "stream",
     "text": [
      "Enter the first number:3\n",
      "Enter the second number:4\n",
      "the LCM of  3  and  4  is:  12\n"
     ]
    }
   ],
   "source": [
    "def calculateLCM(x,y):\n",
    "    if x > y:\n",
    "        greater = x\n",
    "    else:\n",
    "        greater = y\n",
    "    while(True):\n",
    "        if((greater % x == 0) and (greater % y == 0)):\n",
    "            lcm=greater\n",
    "            break\n",
    "        greater += 1\n",
    "    return lcm\n",
    "num1=int(input(\"Enter the first number:\"))\n",
    "num2=int(input(\"Enter the second number:\"))\n",
    "print(\"the LCM of \",num1,\" and \",num2,\" is: \",calculateLCM(num1,num2))"
   ]
  }
 ],
 "metadata": {
  "kernelspec": {
   "display_name": "Python 3",
   "language": "python",
   "name": "python3"
  },
  "language_info": {
   "codemirror_mode": {
    "name": "ipython",
    "version": 3
   },
   "file_extension": ".py",
   "mimetype": "text/x-python",
   "name": "python",
   "nbconvert_exporter": "python",
   "pygments_lexer": "ipython3",
   "version": "3.8.8"
  }
 },
 "nbformat": 4,
 "nbformat_minor": 5
}
