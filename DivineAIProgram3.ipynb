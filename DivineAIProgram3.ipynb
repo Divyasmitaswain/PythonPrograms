{
 "cells": [
  {
   "cell_type": "markdown",
   "id": "43c4d4a7",
   "metadata": {},
   "source": [
    "Q1.WAPP to compute LCM using GCD."
   ]
  },
  {
   "cell_type": "code",
   "execution_count": 2,
   "id": "1bc84f83",
   "metadata": {},
   "outputs": [
    {
     "name": "stdout",
     "output_type": "stream",
     "text": [
      "Enter the value:24\n",
      "Enter the value:12\n",
      "The LCM is : 24\n"
     ]
    }
   ],
   "source": [
    "def computeGCD(x,y):\n",
    "    while(y):\n",
    "        x,y=y,x%y\n",
    "        return x\n",
    "def computeLCM(x,y):\n",
    "    lcm=(x*y)//computeGCD(x,y)\n",
    "    return lcm\n",
    "num1=int(input(\"Enter the value:\"))\n",
    "num2=int(input(\"Enter the value:\"))\n",
    "print(\"The LCM is :\",computeLCM(num1,num2))"
   ]
  },
  {
   "cell_type": "markdown",
   "id": "996f3cfb",
   "metadata": {},
   "source": [
    "Q2.WAPP to find the factors of a number."
   ]
  },
  {
   "cell_type": "code",
   "execution_count": 3,
   "id": "a11bad24",
   "metadata": {},
   "outputs": [
    {
     "name": "stdout",
     "output_type": "stream",
     "text": [
      "Enter the number:90\n",
      "The factors of  90  are:\n",
      "1\n",
      "2\n",
      "3\n",
      "5\n",
      "6\n",
      "9\n",
      "10\n",
      "15\n",
      "18\n",
      "30\n",
      "45\n",
      "90\n"
     ]
    }
   ],
   "source": [
    "def printFactors(x):\n",
    "    print(\"The factors of \",x,\" are:\")\n",
    "    for i in range(1,x+1):\n",
    "        if(x%i==0):\n",
    "            print(i)\n",
    "fact=int(input(\"Enter the number:\"))\n",
    "printFactors(fact)"
   ]
  },
  {
   "cell_type": "markdown",
   "id": "a4935af5",
   "metadata": {},
   "source": [
    "Q3.WAPP to make a simple calculator."
   ]
  },
  {
   "cell_type": "code",
   "execution_count": 6,
   "id": "eb9a6e5c",
   "metadata": {},
   "outputs": [
    {
     "name": "stdout",
     "output_type": "stream",
     "text": [
      "Select operation:\n",
      "1.Addition\n",
      "2.Subtraction\n",
      "3.Multiplication\n",
      "4.Divison\n",
      "Enter choice 1 or 2 or 3 or 4:4\n",
      "Enter the first number:20\n",
      "Enter the second number:4\n",
      "20 / 4 = 5.0\n"
     ]
    }
   ],
   "source": [
    "def add(x,y):\n",
    "    return x+y\n",
    "def sub(x,y):\n",
    "    return x-y\n",
    "def mult(x,y):\n",
    "    return x*y\n",
    "def div(x,y):\n",
    "    return x/y\n",
    "print(\"Select operation:\")\n",
    "print(\"1.Addition\")\n",
    "print(\"2.Subtraction\")\n",
    "print(\"3.Multiplication\")\n",
    "print(\"4.Divison\")\n",
    "\n",
    "while True:\n",
    "    choice=input(\"Enter choice 1 or 2 or 3 or 4:\")\n",
    "    if choice in('1','2','3','4'):\n",
    "        num1=int(input(\"Enter the first number:\"))\n",
    "        num2=int(input(\"Enter the second number:\"))\n",
    "        \n",
    "        if choice == '1':\n",
    "            print(num1,\"+\",num2,\"=\",add(num1,num2))\n",
    "        elif choice =='2':\n",
    "            print(num1,\"-\",num2,\"=\",sub(num1,num2))\n",
    "        elif choice =='3':\n",
    "            print(num1,\"X\",num2,\"=\",mul(num1,num2))\n",
    "        elif choice =='4':\n",
    "            print(num1,\"/\",num2,\"=\",div(num1,num2))\n",
    "            break\n",
    "        else:\n",
    "            print(\"invalid input choose between 1 to 4\")\n",
    "        "
   ]
  },
  {
   "cell_type": "code",
   "execution_count": null,
   "id": "83306b40",
   "metadata": {},
   "outputs": [],
   "source": [
    "Q4.WAPP to display fibonacci sequence using recursion."
   ]
  },
  {
   "cell_type": "code",
   "execution_count": 7,
   "id": "6ff01082",
   "metadata": {},
   "outputs": [
    {
     "name": "stdout",
     "output_type": "stream",
     "text": [
      "Fibonacci sequence:\n",
      "0\n",
      "1\n",
      "1\n",
      "2\n",
      "3\n",
      "5\n",
      "8\n",
      "13\n",
      "21\n",
      "34\n",
      "55\n",
      "89\n",
      "144\n",
      "233\n",
      "377\n",
      "610\n",
      "987\n",
      "1597\n",
      "2584\n",
      "4181\n"
     ]
    }
   ],
   "source": [
    "def fiborecursion(n):\n",
    "    if n<=1:\n",
    "        return n\n",
    "    else:\n",
    "        return (fiborecursion(n-1) + fiborecursion(n-2))\n",
    "terms=20\n",
    "if terms<=0:\n",
    "    print(\"positive number required.\")\n",
    "else:\n",
    "    print(\"Fibonacci sequence:\")\n",
    "    for i in range (terms):\n",
    "        print(fiborecursion(i))"
   ]
  },
  {
   "cell_type": "markdown",
   "id": "f7336ba2",
   "metadata": {},
   "source": [
    "Q5.WAPP to find the sum of natural numbers using recursion ."
   ]
  },
  {
   "cell_type": "code",
   "execution_count": 9,
   "id": "15bda2ac",
   "metadata": {},
   "outputs": [
    {
     "name": "stdout",
     "output_type": "stream",
     "text": [
      "Enter the value :30\n",
      "The sum is : 465\n"
     ]
    }
   ],
   "source": [
    "def sumrecursion(n):\n",
    "    if(n<=1):\n",
    "        return n\n",
    "    else:\n",
    "        return n + sumrecursion(n-1)\n",
    "num=int(input(\"Enter the value :\"))\n",
    "if(num<0):\n",
    "    print(\"positive number required.\")\n",
    "else:\n",
    "    print(\"The sum is :\",sumrecursion(num))"
   ]
  },
  {
   "cell_type": "markdown",
   "id": "74f3bcec",
   "metadata": {},
   "source": [
    "Q6. WAPP to find the factorial of a number using recursion."
   ]
  },
  {
   "cell_type": "code",
   "execution_count": 10,
   "id": "36b43b06",
   "metadata": {},
   "outputs": [
    {
     "name": "stdout",
     "output_type": "stream",
     "text": [
      "Enter the number:5\n",
      "The factorial of  5  is : 120\n"
     ]
    }
   ],
   "source": [
    "def factrecursion (n):\n",
    "    if n== 1:\n",
    "        return n\n",
    "    else:\n",
    "        return n*factrecursion(n-1)\n",
    "num=int(input(\"Enter the number:\"))\n",
    "if (num<0):\n",
    "    print(\"Sorry factorial does not exist for negative numbers,try entering positive number.\")\n",
    "elif(num==0):\n",
    "    print(\"The factorial of 0 is 1.\")\n",
    "else:\n",
    "    print(\"The factorial of \",num,\" is :\",factrecursion(num))"
   ]
  }
 ],
 "metadata": {
  "kernelspec": {
   "display_name": "Python 3",
   "language": "python",
   "name": "python3"
  },
  "language_info": {
   "codemirror_mode": {
    "name": "ipython",
    "version": 3
   },
   "file_extension": ".py",
   "mimetype": "text/x-python",
   "name": "python",
   "nbconvert_exporter": "python",
   "pygments_lexer": "ipython3",
   "version": "3.8.8"
  }
 },
 "nbformat": 4,
 "nbformat_minor": 5
}
