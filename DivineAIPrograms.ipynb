{
 "cells": [
  {
   "cell_type": "markdown",
   "id": "7b0c937f",
   "metadata": {},
   "source": [
    "Q1.WAPP to convert killometer to miles"
   ]
  },
  {
   "cell_type": "code",
   "execution_count": 1,
   "id": "21ad4ea1",
   "metadata": {},
   "outputs": [
    {
     "name": "stdout",
     "output_type": "stream",
     "text": [
      "Enter your value in killometer:54\n",
      "33.5556\n"
     ]
    }
   ],
   "source": [
    "km=float(input(\"Enter your value in killometer:\"))\n",
    "convert=0.6214\n",
    "miles=km*convert\n",
    "print(miles)"
   ]
  },
  {
   "cell_type": "markdown",
   "id": "3d996d90",
   "metadata": {},
   "source": [
    "Q2.WAPP to covert celsius to farhanite"
   ]
  },
  {
   "cell_type": "code",
   "execution_count": 2,
   "id": "0f29195d",
   "metadata": {},
   "outputs": [
    {
     "name": "stdout",
     "output_type": "stream",
     "text": [
      "Enter the degree celcius:0\n",
      "32.0\n"
     ]
    }
   ],
   "source": [
    "celcius=float(input(\"Enter the degree celcius:\"))\n",
    "fahra=(celcius*9/5)+32\n",
    "print(fahra)"
   ]
  },
  {
   "cell_type": "markdown",
   "id": "18e7aa11",
   "metadata": {},
   "source": [
    "Q3. WAPP to check wheather a number is positive or negative or 0"
   ]
  },
  {
   "cell_type": "code",
   "execution_count": 6,
   "id": "5b9dd86f",
   "metadata": {},
   "outputs": [
    {
     "name": "stdout",
     "output_type": "stream",
     "text": [
      "Enter a number:0\n",
      "a is 0\n"
     ]
    }
   ],
   "source": [
    "a=int(input(\"Enter a number:\"))\n",
    "if(a>0):\n",
    "    print(\"a is positive.\")\n",
    "elif(a<0):\n",
    "    print(\"a is negative.\")\n",
    "else:\n",
    "    print(\"a is 0\")"
   ]
  },
  {
   "cell_type": "markdown",
   "id": "503e486e",
   "metadata": {},
   "source": [
    "Q4.WAPP to check wheather a number is even or odd"
   ]
  },
  {
   "cell_type": "code",
   "execution_count": 8,
   "id": "27a79bd0",
   "metadata": {},
   "outputs": [
    {
     "name": "stdout",
     "output_type": "stream",
     "text": [
      "Enter a number:9\n",
      "a is odd\n"
     ]
    }
   ],
   "source": [
    "a=int(input(\"Enter a number:\"))\n",
    "if(a%2==0):\n",
    "    print(\"a is even\")\n",
    "else:\n",
    "    print(\"a is odd\")    "
   ]
  },
  {
   "cell_type": "markdown",
   "id": "1cc238fa",
   "metadata": {},
   "source": [
    "Q5.WAPP to check leap year"
   ]
  },
  {
   "cell_type": "code",
   "execution_count": 11,
   "id": "b43b3282",
   "metadata": {},
   "outputs": [
    {
     "name": "stdout",
     "output_type": "stream",
     "text": [
      "Enter year :2022\n",
      "2022 is not a leap year\n"
     ]
    }
   ],
   "source": [
    "a=int(input(\"Enter year :\"))\n",
    "if(a%4==0):\n",
    "    print(\"{0} is leap year\".format(a))\n",
    "elif(a%100==0):\n",
    "    print(\"{0} is leap year\".format(a))\n",
    "elif(a%400==0):\n",
    "    print(\"{0} is leap year\".format(a))\n",
    "else:\n",
    "    print(\"{0} is not a leap year\".format(a))"
   ]
  },
  {
   "cell_type": "markdown",
   "id": "821ed3cf",
   "metadata": {},
   "source": [
    "Q6.WAPP to find greatest among three numbers entered by the user"
   ]
  },
  {
   "cell_type": "code",
   "execution_count": 2,
   "id": "11d6b868",
   "metadata": {},
   "outputs": [
    {
     "name": "stdout",
     "output_type": "stream",
     "text": [
      "Enter the first number:20\n",
      "Enter the second number:56\n",
      "Enter the third number:89\n",
      "89 is greater\n"
     ]
    }
   ],
   "source": [
    "a=int(input(\"Enter the first number:\"))\n",
    "b=int(input(\"Enter the second number:\"))\n",
    "c=int(input(\"Enter the third number:\"))\n",
    "if(a>b and a>c):\n",
    "    print(\"{0} is greater\".format(a))\n",
    "elif(b>a and b>c):\n",
    "    print(\"{0} is greater\".format(b))\n",
    "else:\n",
    "    print(\"{0} is greater\".format(c))"
   ]
  },
  {
   "cell_type": "markdown",
   "id": "ec177cdd",
   "metadata": {},
   "source": [
    "Q7.WAPP to check wheather a number entered by user is prime or not"
   ]
  },
  {
   "cell_type": "code",
   "execution_count": 6,
   "id": "971cc917",
   "metadata": {},
   "outputs": [
    {
     "name": "stdout",
     "output_type": "stream",
     "text": [
      "Enter the value:101\n",
      "101 is a prime number\n"
     ]
    }
   ],
   "source": [
    "num=int(input(\"Enter the value:\"))\n",
    "if(num>1):\n",
    "    for i in range (2,int(num/2)+1):\n",
    "        if(num % i==0):\n",
    "            print(num,\"is not a prime number\")\n",
    "            continue\n",
    "        else:\n",
    "            print(num,\"is a prime number\")\n",
    "            break\n",
    "else:\n",
    "    print(num,\"is not a prime number\")"
   ]
  },
  {
   "cell_type": "markdown",
   "id": "532f3e39",
   "metadata": {},
   "source": [
    "Q8.WAPP to print all the prime numbers within an interval."
   ]
  },
  {
   "cell_type": "code",
   "execution_count": 4,
   "id": "9791af93",
   "metadata": {},
   "outputs": [
    {
     "name": "stdout",
     "output_type": "stream",
     "text": [
      "prime numbers between 10 and 60 are: \n",
      "11\n",
      "13\n",
      "15\n",
      "17\n",
      "19\n",
      "21\n",
      "23\n",
      "25\n",
      "27\n",
      "29\n",
      "31\n",
      "33\n",
      "35\n",
      "37\n",
      "39\n",
      "41\n",
      "43\n",
      "45\n",
      "47\n",
      "49\n",
      "51\n",
      "53\n",
      "55\n",
      "57\n",
      "59\n"
     ]
    }
   ],
   "source": [
    "x=10\n",
    "y=60\n",
    "print(\"prime numbers between\",x,\"and\",y,\"are: \")\n",
    "\n",
    "for n in range(x, y+1):\n",
    "    if n > 1:\n",
    "        for i in range(2, n):\n",
    "            if (n%2) == 0:\n",
    "                break\n",
    "        else:\n",
    "            print(n)"
   ]
  },
  {
   "cell_type": "markdown",
   "id": "958e3928",
   "metadata": {},
   "source": [
    "Q9.WAPP to find the factorial of a given number"
   ]
  },
  {
   "cell_type": "code",
   "execution_count": 6,
   "id": "8bd284df",
   "metadata": {},
   "outputs": [
    {
     "name": "stdout",
     "output_type": "stream",
     "text": [
      "Enter the number:5\n",
      "The factorial of entered number is:  120\n"
     ]
    }
   ],
   "source": [
    "n=int(input(\"Enter the number:\"))\n",
    "f=1\n",
    "for i in range(1,n+1):\n",
    "    f=f*i\n",
    "print(\"The factorial of entered number is: \",f)    "
   ]
  },
  {
   "cell_type": "markdown",
   "id": "22dc15d3",
   "metadata": {},
   "source": [
    "Q10.WAPP to display the multiplication table of given number"
   ]
  },
  {
   "cell_type": "code",
   "execution_count": 7,
   "id": "2538356f",
   "metadata": {},
   "outputs": [
    {
     "name": "stdout",
     "output_type": "stream",
     "text": [
      "Enter the number for multiplication table :10\n",
      "10 x 1 = 10\n",
      "10 x 2 = 20\n",
      "10 x 3 = 30\n",
      "10 x 4 = 40\n",
      "10 x 5 = 50\n",
      "10 x 6 = 60\n",
      "10 x 7 = 70\n",
      "10 x 8 = 80\n",
      "10 x 9 = 90\n",
      "10 x 10 = 100\n"
     ]
    }
   ],
   "source": [
    "num=int(input(\"Enter the number for multiplication table :\"))\n",
    "for i in range(1,11):\n",
    "    print(num, 'x' ,i, '=', num*i)"
   ]
  },
  {
   "cell_type": "markdown",
   "id": "c7651abc",
   "metadata": {},
   "source": [
    "Q11.WAPP to print fibonacci sequence"
   ]
  },
  {
   "cell_type": "code",
   "execution_count": 8,
   "id": "4e8677ef",
   "metadata": {},
   "outputs": [
    {
     "name": "stdout",
     "output_type": "stream",
     "text": [
      "Enter the value of n:10\n",
      "Fibonacci sequence :  0 1 1 2 3 5 8 13 21 34 "
     ]
    }
   ],
   "source": [
    "n=int(input(\"Enter the value of n:\"))\n",
    "x,y=0,1\n",
    "sum,count=0,1\n",
    "print(\"Fibonacci sequence : \",end=\" \")\n",
    "while(count <= n):\n",
    "    print(sum,end=\" \")\n",
    "    count=count+1\n",
    "    x=y\n",
    "    y=sum\n",
    "    sum=x+y"
   ]
  },
  {
   "cell_type": "markdown",
   "id": "92dd35fb",
   "metadata": {},
   "source": [
    "Q12. WAPP to check Armstrong number (for 3 digits)."
   ]
  },
  {
   "cell_type": "code",
   "execution_count": 2,
   "id": "8306ad41",
   "metadata": {},
   "outputs": [
    {
     "name": "stdout",
     "output_type": "stream",
     "text": [
      "Enter the number :142\n",
      "142 is not an armstrong number\n"
     ]
    }
   ],
   "source": [
    "num=int(input(\"Enter the number :\"))\n",
    "sum=0\n",
    "temp=num\n",
    "while temp> 0:\n",
    "    digit=temp%10\n",
    "    sum=sum+digit**3\n",
    "    temp//=10\n",
    "if num==sum:\n",
    "    print(num,\"is an armstrong number\")\n",
    "else:\n",
    "    print(num,\"is not an armstrong number\")"
   ]
  },
  {
   "cell_type": "markdown",
   "id": "d730d037",
   "metadata": {},
   "source": [
    "Q13.WAPP to find the armstrong number in an interval"
   ]
  },
  {
   "cell_type": "code",
   "execution_count": 3,
   "id": "73addb0a",
   "metadata": {},
   "outputs": [
    {
     "name": "stdout",
     "output_type": "stream",
     "text": [
      "153\n",
      "370\n",
      "371\n"
     ]
    }
   ],
   "source": [
    "x=100\n",
    "y=400\n",
    "for n in range(x,y+1):\n",
    "    order=len(str(n))\n",
    "    sum=0\n",
    "    temp=n\n",
    "    while temp>0:\n",
    "        digit=temp%10\n",
    "        sum+=digit**order\n",
    "        temp//=10\n",
    "    if n==sum:\n",
    "        print(n)"
   ]
  },
  {
   "cell_type": "markdown",
   "id": "9ac39951",
   "metadata": {},
   "source": [
    "Q14.WAPP to find the sum of natural numbers"
   ]
  },
  {
   "cell_type": "code",
   "execution_count": 4,
   "id": "4491cb23",
   "metadata": {},
   "outputs": [
    {
     "name": "stdout",
     "output_type": "stream",
     "text": [
      "Enter the number:20\n",
      "210\n"
     ]
    }
   ],
   "source": [
    "n=int(input(\"Enter the number:\"))\n",
    "if n>0:\n",
    "    print(int(n*(n+1)/2))\n",
    "else:\n",
    "    print(\"Enter a positive number\")"
   ]
  },
  {
   "cell_type": "markdown",
   "id": "4c343164",
   "metadata": {},
   "source": [
    "Q15.WAPP to find numbers divisible by another number"
   ]
  },
  {
   "cell_type": "code",
   "execution_count": 5,
   "id": "011adef0",
   "metadata": {},
   "outputs": [
    {
     "name": "stdout",
     "output_type": "stream",
     "text": [
      "Enter a number:6\n",
      "Enter a number:30\n",
      "Enter a number:3\n",
      "6 30 are divisible by  3\n"
     ]
    }
   ],
   "source": [
    "x=int(input(\"Enter a number:\"))\n",
    "y=int(input(\"Enter a number:\"))\n",
    "div=int(input(\"Enter a number:\"))\n",
    "if(x%div and Y%div)==0:\n",
    "    print(x,y,\"are divisible by \",div)"
   ]
  }
 ],
 "metadata": {
  "kernelspec": {
   "display_name": "Python 3",
   "language": "python",
   "name": "python3"
  },
  "language_info": {
   "codemirror_mode": {
    "name": "ipython",
    "version": 3
   },
   "file_extension": ".py",
   "mimetype": "text/x-python",
   "name": "python",
   "nbconvert_exporter": "python",
   "pygments_lexer": "ipython3",
   "version": "3.8.8"
  }
 },
 "nbformat": 4,
 "nbformat_minor": 5
}
