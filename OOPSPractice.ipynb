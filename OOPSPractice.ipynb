{
 "cells": [
  {
   "cell_type": "markdown",
   "id": "e5166296",
   "metadata": {},
   "source": [
    "Q1. Creat a class programmer for storing information of few programmers working at Microsoft."
   ]
  },
  {
   "cell_type": "code",
   "execution_count": 10,
   "id": "78f5e1d7",
   "metadata": {},
   "outputs": [
    {
     "name": "stdout",
     "output_type": "stream",
     "text": [
      "The name of the programmer is Divya ,company is Microsoft and the product is Skype\n",
      "The name of the programmer is Minal ,company is Microsoft and the product is Github\n"
     ]
    }
   ],
   "source": [
    "class Computer:\n",
    "    company=\"Microsoft\"\n",
    "    \n",
    "    def __init__(self,name,product):\n",
    "        self.name=name\n",
    "        self.product=product\n",
    "        \n",
    "    def getInfo(self):\n",
    "        print(f\"The name of the programmer is {self.name} ,company is {self.company} and the product is {self.product}\")\n",
    "        \n",
    "        \n",
    "prog1=Computer(\"Divya\",\"Skype\")\n",
    "prog2=Computer(\"Minal\",\"Github\")\n",
    "\n",
    "prog1.getInfo()\n",
    "prog2.getInfo()"
   ]
  },
  {
   "cell_type": "markdown",
   "id": "0ec7f484",
   "metadata": {},
   "source": [
    "Q2.Write a class calculator capable of finding square , cube & squareroot of a number ."
   ]
  },
  {
   "cell_type": "code",
   "execution_count": 11,
   "id": "8ea05e5b",
   "metadata": {},
   "outputs": [
    {
     "name": "stdout",
     "output_type": "stream",
     "text": [
      "Enter the number:3\n",
      " The Square of the 3 is : 9\n",
      " The Cube of the 3 is : 27\n",
      " The Squareroot of the 3 is : 1.5\n"
     ]
    }
   ],
   "source": [
    "class Calculator:\n",
    "    def __init__(self,number):\n",
    "        self.number=number\n",
    "    def square(self):\n",
    "        print(f\" The Square of the {self.number} is : {self.number**2}\")\n",
    "    def cube(self):\n",
    "        print(f\" The Cube of the {self.number} is : {self.number**3}\")\n",
    "    def squareroot(self):\n",
    "        print(f\" The Squareroot of the {self.number} is : {self.number*0.5}\")\n",
    "        \n",
    "a=int(input(\"Enter the number:\"))\n",
    "a=Calculator(a)\n",
    "\n",
    "a.square()\n",
    "a.cube()\n",
    "a.squareroot()"
   ]
  },
  {
   "cell_type": "markdown",
   "id": "817b9905",
   "metadata": {},
   "source": [
    "Q3. Creat a class with class attribute a . creat an object from it and set a directly using object a=0 does this change a class attribute."
   ]
  },
  {
   "cell_type": "code",
   "execution_count": 15,
   "id": "81281cf4",
   "metadata": {},
   "outputs": [
    {
     "name": "stdout",
     "output_type": "stream",
     "text": [
      "Divya\n",
      "Minal\n"
     ]
    }
   ],
   "source": [
    "class Sample:\n",
    "    a=\"Divya\"       #This is the instance of sample.\n",
    "    \n",
    "obj=Sample()\n",
    "obj.a=\"Minal\"  #This is the instance of obj.This set the instance attribute.\n",
    "\n",
    "# Both are going to print their own instances.\n",
    "print(Sample.a)\n",
    "print(obj.a)    \n",
    "\n",
    "#so, the answer of this queastion is no,its not gonna change the class attribute.\n",
    "#If we want to change the class attribute then we have to write.\n",
    "#Sample.a=\"Minal\"  #This going to change the class attribute "
   ]
  },
  {
   "cell_type": "markdown",
   "id": "0751745c",
   "metadata": {},
   "source": [
    "Q4.Add a static method in problem 2 to greet the user with hello."
   ]
  },
  {
   "cell_type": "code",
   "execution_count": 16,
   "id": "6fe8c7c7",
   "metadata": {},
   "outputs": [
    {
     "name": "stdout",
     "output_type": "stream",
     "text": [
      "Enter the number:3\n",
      "******Hello user welcome to the best Calculator********\n",
      " The Square of the 3 is : 9\n",
      " The Cube of the 3 is : 27\n",
      " The Squareroot of the 3 is : 1.5\n"
     ]
    }
   ],
   "source": [
    "class Calculator:\n",
    "    def __init__(self,number):\n",
    "        self.number=number\n",
    "    def square(self):\n",
    "        print(f\" The Square of the {self.number} is : {self.number**2}\")\n",
    "    def cube(self):\n",
    "        print(f\" The Cube of the {self.number} is : {self.number**3}\")\n",
    "    def squareroot(self):\n",
    "        print(f\" The Squareroot of the {self.number} is : {self.number*0.5}\")\n",
    "    @staticmethod    \n",
    "    def greet():\n",
    "        print(\"******Hello user welcome to the best Calculator********\")\n",
    "        \n",
    "a=int(input(\"Enter the number:\"))\n",
    "a=Calculator(a)\n",
    "a.greet()\n",
    "a.square()\n",
    "a.cube()\n",
    "a.squareroot()"
   ]
  },
  {
   "cell_type": "markdown",
   "id": "bf6a7ed1",
   "metadata": {},
   "source": [
    "Q5. Write a class train which has methods to book a ticket ,get status(no of seats)and get fare information of trains running under Indian railway."
   ]
  },
  {
   "cell_type": "code",
   "execution_count": 5,
   "id": "0fc59420",
   "metadata": {},
   "outputs": [
    {
     "name": "stdout",
     "output_type": "stream",
     "text": [
      "The name of the train is :Rajdhani Express: 1404537\n",
      " The seats are available in this train is :300\n",
      "How many tickets you want to book:5\n",
      "your seat number 300 is booked\n",
      "The fare of the train per seat is :90\n",
      "The name of the train is :Rajdhani Express: 1404537\n",
      " The seats are available in this train is :295\n"
     ]
    }
   ],
   "source": [
    "class Train:\n",
    "    def __init__(self,name,fare,seats):\n",
    "        self.name=name\n",
    "        self.fare=fare\n",
    "        self.seats=seats\n",
    "    def getInfo(self):\n",
    "        print(f\"The name of the train is :{self.name}: 1404537\")\n",
    "        print(f\" The seats are available in this train is :{self.seats}\")\n",
    "        \n",
    "    def fareInfo(self):\n",
    "        print(f\"The fare of the train per seat is :{self.fare}\")\n",
    "      \n",
    "    def bookTicket(self):\n",
    "        a=int(input(\"How many tickets you want to book:\"))\n",
    "        \n",
    "        if(self.seats>0):\n",
    "            print(f\"your seat number {self.seats} is booked\")\n",
    "            self.seats=self.seats-a\n",
    "        else:\n",
    "            print(\"Sorry there is no vacancy for seats.\")\n",
    "intercity=Train(\"Rajdhani Express\",90,300)\n",
    "intercity.getInfo()\n",
    "intercity.bookTicket()\n",
    "intercity.fareInfo()\n",
    "intercity.getInfo()"
   ]
  },
  {
   "cell_type": "markdown",
   "id": "1b421d1c",
   "metadata": {},
   "source": [
    "Q6.Can you change the self parameter inside a class to something else (say \"divya\"). Try changing \"self\" to \"slf\"  or \"divya\" and see the effects."
   ]
  },
  {
   "cell_type": "code",
   "execution_count": 6,
   "id": "3d062c69",
   "metadata": {},
   "outputs": [
    {
     "name": "stdout",
     "output_type": "stream",
     "text": [
      "Divyasmita\n"
     ]
    }
   ],
   "source": [
    "class Sample:\n",
    "    def __init__(divya,name):\n",
    "        divya.name=name\n",
    "obj=Sample(\"Divyasmita\") \n",
    "print(obj.name)\n",
    "#yes we can change it but its not a good practice it can make cofusion."
   ]
  }
 ],
 "metadata": {
  "kernelspec": {
   "display_name": "Python 3",
   "language": "python",
   "name": "python3"
  },
  "language_info": {
   "codemirror_mode": {
    "name": "ipython",
    "version": 3
   },
   "file_extension": ".py",
   "mimetype": "text/x-python",
   "name": "python",
   "nbconvert_exporter": "python",
   "pygments_lexer": "ipython3",
   "version": "3.8.8"
  }
 },
 "nbformat": 4,
 "nbformat_minor": 5
}
