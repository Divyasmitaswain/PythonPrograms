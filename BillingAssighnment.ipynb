{
 "cells": [
  {
   "cell_type": "markdown",
   "id": "04ed6a8c",
   "metadata": {},
   "source": [
    "# FILES"
   ]
  },
  {
   "cell_type": "code",
   "execution_count": 1,
   "id": "f40d62aa",
   "metadata": {},
   "outputs": [],
   "source": [
    "def receipt(bill,file):\n",
    "    total=0\n",
    "    name='ITEM'\n",
    "    number='QUANTITY'\n",
    "    price='RATE'\n",
    "    totalp='TOTAL PRICE'\n",
    "    file.write('GROCERY STORE\\n\\n')\n",
    "    file.write(f'{name:{20}} {number:^20}{price:^20}{totalp:>20}'+'\\n')\n",
    "    for item,price in bill.items():\n",
    "        total_rate=price[0]*price[1]\n",
    "        file.write(f'{item:{20}} {price[0]:^20}{price[1]:^20}{total_rate:>20}'+'\\n')\n",
    "        total+=total_rate\n",
    "    file.write('\\n'+'Total ='+format(total,'.2f')+'\\n')\n",
    "    file.close()"
   ]
  },
  {
   "cell_type": "code",
   "execution_count": 4,
   "id": "724ff79b",
   "metadata": {},
   "outputs": [],
   "source": [
    "bill={\"cold coffee\":[3,25],\"Ice cream\":[1,35],\"tea\":[2,5],\"sandwitch\":[2,15]}\n",
    "file=open('receipt.txt','w')\n",
    "receipt(bill,file)"
   ]
  }
 ],
 "metadata": {
  "kernelspec": {
   "display_name": "Python 3",
   "language": "python",
   "name": "python3"
  },
  "language_info": {
   "codemirror_mode": {
    "name": "ipython",
    "version": 3
   },
   "file_extension": ".py",
   "mimetype": "text/x-python",
   "name": "python",
   "nbconvert_exporter": "python",
   "pygments_lexer": "ipython3",
   "version": "3.8.8"
  }
 },
 "nbformat": 4,
 "nbformat_minor": 5
}
