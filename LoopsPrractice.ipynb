{
 "cells": [
  {
   "cell_type": "markdown",
   "id": "7d5e01d4",
   "metadata": {},
   "source": [
    "Q1.Write a program to print multiplication table of a given number using for loop."
   ]
  },
  {
   "cell_type": "code",
   "execution_count": 4,
   "id": "36cb6b9f",
   "metadata": {},
   "outputs": [
    {
     "name": "stdout",
     "output_type": "stream",
     "text": [
      "Enter the number for the multiplication table :5\n",
      "5X1=5\n",
      "5X2=10\n",
      "5X3=15\n",
      "5X4=20\n",
      "5X5=25\n",
      "5X6=30\n",
      "5X7=35\n",
      "5X8=40\n",
      "5X9=45\n",
      "5X10=50\n"
     ]
    }
   ],
   "source": [
    "num=int(input(\"Enter the number for the multiplication table :\"))\n",
    "for i in range(1,11):\n",
    "#     print(str(num) + \"X\" + str(i) + \"=\" + str(num*i))\n",
    "#we can also write it using fstring to make it more simpler.\n",
    "    print(f\"{num}X{i}={num*i}\")"
   ]
  },
  {
   "cell_type": "markdown",
   "id": "d3bafdad",
   "metadata": {},
   "source": [
    "Q2.Write a program to greet all the person names started in a list l1 and which start with s.\n",
    "l1=[\"Harry\",\"shubham\",\"sachin\",\"divya\"]."
   ]
  },
  {
   "cell_type": "code",
   "execution_count": 12,
   "id": "00fa90c1",
   "metadata": {},
   "outputs": [
    {
     "name": "stdout",
     "output_type": "stream",
     "text": [
      "Hello Shubham\n",
      "Hello Sachin\n",
      "Hello Sahil\n"
     ]
    }
   ],
   "source": [
    "l1=[\"Divya\",\"Shubham\",\"Sachin\",\"Sahil\",\"Rishab\"]\n",
    "\n",
    "for name in l1:\n",
    "    if name.startswith(\"S\"):\n",
    "        print(\"Hello \"+name)"
   ]
  },
  {
   "cell_type": "markdown",
   "id": "efd765b9",
   "metadata": {},
   "source": [
    "Q3.Attempt Problem 1 using while loop."
   ]
  },
  {
   "cell_type": "code",
   "execution_count": 16,
   "id": "d919958c",
   "metadata": {},
   "outputs": [
    {
     "name": "stdout",
     "output_type": "stream",
     "text": [
      "Enter the number for multiplication:5\n",
      "5X1=5\n",
      "5X2=10\n",
      "5X3=15\n",
      "5X4=20\n",
      "5X5=25\n",
      "5X6=30\n",
      "5X7=35\n",
      "5X8=40\n",
      "5X9=45\n",
      "5X10=50\n"
     ]
    }
   ],
   "source": [
    "i=1\n",
    "num=int(input(\"Enter the number for multiplication:\"))\n",
    "while(i<=10):\n",
    "    print(f\"{num}X{i}={num*i}\")\n",
    "    i=i+1"
   ]
  },
  {
   "cell_type": "markdown",
   "id": "921690ca",
   "metadata": {},
   "source": [
    "Q4.Write a Program to find whether a given number is prime or not."
   ]
  },
  {
   "cell_type": "code",
   "execution_count": 17,
   "id": "2fa72953",
   "metadata": {},
   "outputs": [
    {
     "name": "stdout",
     "output_type": "stream",
     "text": [
      "Enter the number:3\n",
      "yes it is Prime.\n"
     ]
    }
   ],
   "source": [
    "num=int(input(\"Enter the number:\"))\n",
    "prime=True\n",
    "for i in range(2,num):\n",
    "    if(num%i==0):\n",
    "        prime=false\n",
    "        break\n",
    "if prime:\n",
    "    print(\"yes it is Prime.\")\n",
    "else:\n",
    "    print(\"it is not prime.\")"
   ]
  },
  {
   "cell_type": "markdown",
   "id": "491934fb",
   "metadata": {},
   "source": [
    "Q5.Write a program to find the sum of n natural numbers using while loop ."
   ]
  },
  {
   "cell_type": "code",
   "execution_count": 3,
   "id": "109b9cec",
   "metadata": {},
   "outputs": [
    {
     "name": "stdout",
     "output_type": "stream",
     "text": [
      "Enter the number:10\n",
      "The sum of 0  natural numbers are: 55\n"
     ]
    }
   ],
   "source": [
    "num=int(input(\"Enter the number:\"))\n",
    "if(num<0):\n",
    "    print(\"Enter a positive integer:\")\n",
    "else:\n",
    "    sum=0\n",
    "    while(num>0):\n",
    "        sum += num\n",
    "        num -= 1\n",
    "    print(\"The sum of\",num,\" natural numbers are:\",sum)    \n"
   ]
  },
  {
   "cell_type": "markdown",
   "id": "61b047ee",
   "metadata": {},
   "source": [
    "Q6.Write a program to calculate the factorial of given number using for loop."
   ]
  },
  {
   "cell_type": "code",
   "execution_count": 5,
   "id": "c58e3312",
   "metadata": {},
   "outputs": [
    {
     "name": "stdout",
     "output_type": "stream",
     "text": [
      "Enter the number:3\n",
      "The factorial of the 3 number is : 6\n"
     ]
    }
   ],
   "source": [
    "num=int(input(\"Enter the number:\"))\n",
    "if(num<0):\n",
    "    print(\"Enter a positive integer.\")\n",
    "else:\n",
    "    factorial=1\n",
    "    for i in range(1,num+1):\n",
    "        factorial=factorial*i\n",
    "    print(f\"The factorial of the {num} number is : {factorial}\")    "
   ]
  },
  {
   "cell_type": "markdown",
   "id": "278c4608",
   "metadata": {},
   "source": [
    "Q7.write a program to print the following star pattern for n=3\n",
    "*\n",
    "***\n",
    "*****"
   ]
  },
  {
   "cell_type": "code",
   "execution_count": 10,
   "id": "cdb41deb",
   "metadata": {},
   "outputs": [
    {
     "name": "stdout",
     "output_type": "stream",
     "text": [
      "  *  \n",
      " *** \n",
      "*****\n"
     ]
    }
   ],
   "source": [
    "n=3\n",
    "for i in range(3):\n",
    "    print(\" \"*(n-i-1), end=\"\")\n",
    "    print(\"*\"*(2*i+1), end=\"\")\n",
    "    print(\" \"*(n-i-1))"
   ]
  },
  {
   "cell_type": "markdown",
   "id": "44280560",
   "metadata": {},
   "source": [
    "Q8.write a program to print the following star pattern for n=3\n",
    "*\n",
    "**\n",
    "***"
   ]
  },
  {
   "cell_type": "code",
   "execution_count": 6,
   "id": "de3037a8",
   "metadata": {},
   "outputs": [
    {
     "name": "stdout",
     "output_type": "stream",
     "text": [
      "*\n",
      "**\n",
      "***\n"
     ]
    }
   ],
   "source": [
    "n=3\n",
    "for i in range(3):\n",
    "    print(\"*\" *(i+1))"
   ]
  }
 ],
 "metadata": {
  "kernelspec": {
   "display_name": "Python 3",
   "language": "python",
   "name": "python3"
  },
  "language_info": {
   "codemirror_mode": {
    "name": "ipython",
    "version": 3
   },
   "file_extension": ".py",
   "mimetype": "text/x-python",
   "name": "python",
   "nbconvert_exporter": "python",
   "pygments_lexer": "ipython3",
   "version": "3.8.8"
  }
 },
 "nbformat": 4,
 "nbformat_minor": 5
}
