{
 "cells": [
  {
   "cell_type": "markdown",
   "id": "fadb723d",
   "metadata": {},
   "source": [
    "Q.From the above we have to separate the mail ids using split function and then, find out the number of gmails ,yahoos,outlook etc\n",
    ". we should make use of dictionaries with gmail,yahoo ,outlook as keys and the number of mail ids corresponding to those as values. "
   ]
  },
  {
   "cell_type": "code",
   "execution_count": 1,
   "id": "70aff3c2",
   "metadata": {},
   "outputs": [
    {
     "name": "stdout",
     "output_type": "stream",
     "text": [
      "Email ids are:\n",
      "'turboslayer@gmail.com', 'someone@outlook.com', 'crashtv@gov.in', 'blue_defender@gmail.com', 'logan@yahoo.com', 'ironmerc@gov.in', 'steeltitan@outlook.com', 'stealthedefender@yahoo.com', 'blaze_assault@gov.in', 'venom_fate@yahoo.com', 'dark_side@yahoo.com', 'fataldestiny@yahoo.com', 'ultimatebeast@outlook.com', 'masked_titan@gmail.com', 'frozen_gunner@yahoo.com', 'username_copied@gov.in', 'whos_ur_buddy@outlook.com', 'unfinished_sentenc@gov.in', 'all_gone@gov.in', 'something@gmail.com', 'president@gmail.com', 'tinfoilhat@gmail.com', 'anonymouse@yahoo.com', 'definitely_not_an_athlete@outlook.com', 'dropout@gov.in', 'paw_friend@outlook.com', 'test_name_please_ignore@gov.in', 'heyyou@gov.in', 'a_distraction@yahoo.com', 'thegodfatherpart4@gov.in', 'unfriendme@outlook.com', 'doodles@gmail.com', 'fluffycookie@yahoo.com', 'theintolerant@gmail.com', 'fourhour@yahoo.com', 'toastedwithcheese@gmail.com', 'futureking@yahoo.com', 'coolshirtbruh@outlook.com', 'kentucky@yahoo.com', 'chocolate@gmail.com', 'saintbroseph@yahoo.com', 'just_chillin@gmail.com', 'ghostface@gov.in', 'bigfootisreal@yahoo.com', 'newbie@yahoo.com', 'alienware@outlook.com', 'chrishemsworth@outlook.com', 'nachocheesefries@outlook.com', 'reginageorge@gov.in', 'harmless_potato@outlook.com', 'frostedcupcake@outlook.com', 'avocadorable@outlook.com', 'pixie_dust@gmail.com', 'chopsuey@yahoo.com', 'iron_man@gov.in', 'lemon_ade@outlook.com', 'cerial_killer@outlook.com', 'light_year@gov.in', 'phoenix@outlook.com', 'harry_potter@outlook.com'\n"
     ]
    }
   ],
   "source": [
    "mail=eval(input(\"Email ids are:\\n\"))\n",
    "user=()\n",
    "domain=()\n",
    "for i in mail:\n",
    "    lst=i.split('@')\n",
    "    user += (lst[0],)\n",
    "    domain +=(lst[1],)"
   ]
  },
  {
   "cell_type": "code",
   "execution_count": 2,
   "id": "64c1a6c9",
   "metadata": {},
   "outputs": [
    {
     "name": "stdout",
     "output_type": "stream",
     "text": [
      "user name of email id: ('turboslayer', 'someone', 'crashtv', 'blue_defender', 'logan', 'ironmerc', 'steeltitan', 'stealthedefender', 'blaze_assault', 'venom_fate', 'dark_side', 'fataldestiny', 'ultimatebeast', 'masked_titan', 'frozen_gunner', 'username_copied', 'whos_ur_buddy', 'unfinished_sentenc', 'all_gone', 'something', 'president', 'tinfoilhat', 'anonymouse', 'definitely_not_an_athlete', 'dropout', 'paw_friend', 'test_name_please_ignore', 'heyyou', 'a_distraction', 'thegodfatherpart4', 'unfriendme', 'doodles', 'fluffycookie', 'theintolerant', 'fourhour', 'toastedwithcheese', 'futureking', 'coolshirtbruh', 'kentucky', 'chocolate', 'saintbroseph', 'just_chillin', 'ghostface', 'bigfootisreal', 'newbie', 'alienware', 'chrishemsworth', 'nachocheesefries', 'reginageorge', 'harmless_potato', 'frostedcupcake', 'avocadorable', 'pixie_dust', 'chopsuey', 'iron_man', 'lemon_ade', 'cerial_killer', 'light_year', 'phoenix', 'harry_potter')\n"
     ]
    }
   ],
   "source": [
    "print(\"user name of email id:\",user)"
   ]
  },
  {
   "cell_type": "code",
   "execution_count": 3,
   "id": "0f6f3274",
   "metadata": {},
   "outputs": [
    {
     "name": "stdout",
     "output_type": "stream",
     "text": [
      "Domains are: ('gmail.com', 'outlook.com', 'gov.in', 'gmail.com', 'yahoo.com', 'gov.in', 'outlook.com', 'yahoo.com', 'gov.in', 'yahoo.com', 'yahoo.com', 'yahoo.com', 'outlook.com', 'gmail.com', 'yahoo.com', 'gov.in', 'outlook.com', 'gov.in', 'gov.in', 'gmail.com', 'gmail.com', 'gmail.com', 'yahoo.com', 'outlook.com', 'gov.in', 'outlook.com', 'gov.in', 'gov.in', 'yahoo.com', 'gov.in', 'outlook.com', 'gmail.com', 'yahoo.com', 'gmail.com', 'yahoo.com', 'gmail.com', 'yahoo.com', 'outlook.com', 'yahoo.com', 'gmail.com', 'yahoo.com', 'gmail.com', 'gov.in', 'yahoo.com', 'yahoo.com', 'outlook.com', 'outlook.com', 'outlook.com', 'gov.in', 'outlook.com', 'outlook.com', 'outlook.com', 'gmail.com', 'yahoo.com', 'gov.in', 'outlook.com', 'outlook.com', 'gov.in', 'outlook.com', 'outlook.com')\n"
     ]
    }
   ],
   "source": [
    "print(\"Domains are:\",domain)"
   ]
  }
 ],
 "metadata": {
  "kernelspec": {
   "display_name": "Python 3",
   "language": "python",
   "name": "python3"
  },
  "language_info": {
   "codemirror_mode": {
    "name": "ipython",
    "version": 3
   },
   "file_extension": ".py",
   "mimetype": "text/x-python",
   "name": "python",
   "nbconvert_exporter": "python",
   "pygments_lexer": "ipython3",
   "version": "3.8.8"
  }
 },
 "nbformat": 4,
 "nbformat_minor": 5
}
