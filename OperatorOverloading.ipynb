{
 "cells": [
  {
   "cell_type": "markdown",
   "id": "1cbcdddb",
   "metadata": {},
   "source": [
    "# Operator Overloading "
   ]
  },
  {
   "cell_type": "code",
   "execution_count": 4,
   "id": "03f83eac",
   "metadata": {},
   "outputs": [
    {
     "name": "stdout",
     "output_type": "stream",
     "text": [
      "Addition of these two number is :\n",
      "10\n",
      "Multiplication of these two numbers are :\n",
      "24\n"
     ]
    }
   ],
   "source": [
    "class Number:\n",
    "    def __init__(self,num):\n",
    "        self.num=num\n",
    "    def __add__(self,num2):\n",
    "        print(\"Addition of these two number is :\")\n",
    "        return self.num+num2.num\n",
    "    def __mul__(self,num3):\n",
    "        print(\"Multiplication of these two numbers are :\")\n",
    "        return self.num* num3.num\n",
    "    \n",
    "n1=Number(4)\n",
    "n2=Number(6)\n",
    "sum=n1+n2\n",
    "print(sum)\n",
    "mul=n1*n2\n",
    "print(mul)"
   ]
  },
  {
   "cell_type": "code",
   "execution_count": 6,
   "id": "22cbd7d6",
   "metadata": {},
   "outputs": [
    {
     "name": "stdout",
     "output_type": "stream",
     "text": [
      "Decimal Number:9\n",
      "1\n"
     ]
    }
   ],
   "source": [
    "#some other dunder methods are \n",
    "class Number:\n",
    "    def __init__(self,num):\n",
    "        self.num=num\n",
    "    def __add__(self,num2):\n",
    "        print(\"Addition of these two number is :\")\n",
    "        return self.num+num2.num\n",
    "    def __mul__(self,num3):\n",
    "        print(\"Multiplication of these two numbers are :\")\n",
    "        return self.num* num3.num\n",
    "    def __str__(self):\n",
    "        return f\"Decimal Number:{self.num}\"\n",
    "    def __len__(self):\n",
    "        return 1\n",
    "    \n",
    "n=Number(9)\n",
    "print(n)\n",
    "print(len(n))"
   ]
  }
 ],
 "metadata": {
  "kernelspec": {
   "display_name": "Python 3",
   "language": "python",
   "name": "python3"
  },
  "language_info": {
   "codemirror_mode": {
    "name": "ipython",
    "version": 3
   },
   "file_extension": ".py",
   "mimetype": "text/x-python",
   "name": "python",
   "nbconvert_exporter": "python",
   "pygments_lexer": "ipython3",
   "version": "3.8.8"
  }
 },
 "nbformat": 4,
 "nbformat_minor": 5
}
