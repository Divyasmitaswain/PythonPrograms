{
 "cells": [
  {
   "cell_type": "markdown",
   "id": "e9d0eb68",
   "metadata": {},
   "source": [
    "Q1.Creat a class c-2d vector and use it to creat another class representing a 3-d vector."
   ]
  },
  {
   "cell_type": "code",
   "execution_count": 5,
   "id": "13ca8030",
   "metadata": {},
   "outputs": [
    {
     "name": "stdout",
     "output_type": "stream",
     "text": [
      "1i + 3j\n",
      "1i +9j +7k\n"
     ]
    }
   ],
   "source": [
    "class C2D:\n",
    "    def __init__(self,i,j):\n",
    "        self.icap=i\n",
    "        self.jcap=j\n",
    "        \n",
    "    def __str__(self):\n",
    "        return f\"{self.icap}i + {self.jcap}j\"\n",
    "        \n",
    "class C3D(C2D):\n",
    "    def __init__(self,i,j,k):\n",
    "        super().__init__(i,j)\n",
    "        self.kcap=k\n",
    "        \n",
    "    def __str__(self):\n",
    "        return f\"{self.icap}i +{self.jcap}j +{self.kcap}k\"\n",
    "    \n",
    "vec1=C2D(1,3)\n",
    "vec2=C3D(1,9,7)\n",
    "print(vec1)\n",
    "print(vec2)  "
   ]
  },
  {
   "cell_type": "markdown",
   "id": "233fe4ad",
   "metadata": {},
   "source": [
    "Q2.creat a class pets from a class animal and further creat a class dog from pets . add a method bark to class dog ."
   ]
  },
  {
   "cell_type": "code",
   "execution_count": 7,
   "id": "b5d46df9",
   "metadata": {},
   "outputs": [
    {
     "name": "stdout",
     "output_type": "stream",
     "text": [
      "Dogs bark!!!\n"
     ]
    }
   ],
   "source": [
    "class Animal:\n",
    "    pass\n",
    "class Pets(Animal):\n",
    "    pass\n",
    "class Dog(Pets):\n",
    "    def bark(self):\n",
    "        print(\"Dogs bark!!!\")\n",
    "d=Dog()\n",
    "d.bark()       "
   ]
  },
  {
   "cell_type": "markdown",
   "id": "a403cc18",
   "metadata": {},
   "source": [
    "Q3.Creat a class Employee and add salary and increment properties to it .\n",
    "write a method salaryAfterIncrement method with a @property decorator with a setter which changes the value of increment based on the salary"
   ]
  },
  {
   "cell_type": "code",
   "execution_count": 10,
   "id": "17e74cfd",
   "metadata": {},
   "outputs": [
    {
     "name": "stdout",
     "output_type": "stream",
     "text": [
      "150.0\n",
      "1.5\n",
      "1.5\n"
     ]
    }
   ],
   "source": [
    "class Employee:\n",
    "    salary=100\n",
    "    increment=1.5\n",
    "    \n",
    "    @property\n",
    "    def salaryAfterIncrement(self):\n",
    "        return self.salary *self. increment\n",
    "    \n",
    "    @salaryAfterIncrement.setter\n",
    "    def salaryAfterIncrement(self,sai):\n",
    "        self.incremnt=sai/self.salary\n",
    "e=Employee()\n",
    "print(e.salaryAfterIncrement)\n",
    "print(e.increment)\n",
    "e.salaryAfterIncrement=2000\n",
    "print(e.increment)"
   ]
  },
  {
   "cell_type": "markdown",
   "id": "e1d31c46",
   "metadata": {},
   "source": [
    "Q4.Write a class complex to represent complex numbers , along with overloaded operators + and * which adds and multiplies them."
   ]
  },
  {
   "cell_type": "code",
   "execution_count": 16,
   "id": "75f0e9c2",
   "metadata": {},
   "outputs": [
    {
     "name": "stdout",
     "output_type": "stream",
     "text": [
      "4+9i\n",
      "-11+23i\n"
     ]
    }
   ],
   "source": [
    "class Complex:\n",
    "    def __init__(self,r,i):\n",
    "        self.real=r\n",
    "        self.imaginary=i\n",
    "        \n",
    "    def __add__(self,c):\n",
    "        return Complex(self.real+c.real,self.imaginary+c.imaginary)\n",
    "    \n",
    "    def __mul__(self,c):\n",
    "        mulReal=self.real*c.real-self.imaginary*c.imaginary\n",
    "        mulImg=self.real*c.imaginary+self.imaginary*c.real\n",
    "        return Complex(mulReal,mulImg)\n",
    "    \n",
    "    def __str__(self):\n",
    "        return f\"{self.real}+{self.imaginary}i\"\n",
    "    \n",
    "c1=Complex(3,2)\n",
    "c2=Complex(1,7)\n",
    "print(c1+c2)\n",
    "print(c1*c2)    "
   ]
  },
  {
   "cell_type": "markdown",
   "id": "aa110198",
   "metadata": {},
   "source": [
    "Q5. Write a class vector representing a vector of n dimension .overload the + and * operator which calculates the sum and dot product of them ."
   ]
  },
  {
   "cell_type": "code",
   "execution_count": 19,
   "id": "d4046aa4",
   "metadata": {},
   "outputs": [
    {
     "name": "stdout",
     "output_type": "stream",
     "text": [
      "1a0 +4a1 +6a2 \n"
     ]
    }
   ],
   "source": [
    "class Vector:\n",
    "    def __init__(self,vec):\n",
    "            self.vec=vec\n",
    "    def __str__(self):\n",
    "        str1=\"\"\n",
    "        index=0\n",
    "        for i in self.vec:\n",
    "            str1+=f\"{i}a{index} +\"\n",
    "            index += 1\n",
    "        return str1[:-1]\n",
    "v1=Vector([1,4,6])\n",
    "print(v1)"
   ]
  },
  {
   "cell_type": "markdown",
   "id": "68dec17d",
   "metadata": {},
   "source": [
    "Q6.write __str__() method to print the vector as follows.7i^+8j^+10k^.Assume vector of dimension 3 for this time."
   ]
  },
  {
   "cell_type": "code",
   "execution_count": 20,
   "id": "52001133",
   "metadata": {},
   "outputs": [
    {
     "name": "stdout",
     "output_type": "stream",
     "text": [
      "1i+4j+6k\n",
      "1i+6j+9k\n"
     ]
    }
   ],
   "source": [
    "class Vector:\n",
    "    def __init__(self,vec):\n",
    "            self.vec=vec\n",
    "    def __str__(self):\n",
    "        return f\"{self.vec[0]}i+{self.vec[1]}j+{self.vec[2]}k\"\n",
    "    \n",
    "v1=Vector([1,4,6])\n",
    "v2=Vector([1,6,9])\n",
    "print(v1)\n",
    "print(v2)"
   ]
  },
  {
   "cell_type": "markdown",
   "id": "ee4685f1",
   "metadata": {},
   "source": [
    "Q7.overide the __len__() method on vector of problem 5 to display the dimension of vector."
   ]
  },
  {
   "cell_type": "code",
   "execution_count": 21,
   "id": "e2640fe3",
   "metadata": {},
   "outputs": [
    {
     "name": "stdout",
     "output_type": "stream",
     "text": [
      "1a0 +4a1 +6a2 \n",
      "3\n"
     ]
    }
   ],
   "source": [
    "class Vector:\n",
    "    def __init__(self,vec):\n",
    "            self.vec=vec\n",
    "    def __str__(self):\n",
    "        str1=\"\"\n",
    "        index=0\n",
    "        for i in self.vec:\n",
    "            str1+=f\"{i}a{index} +\"\n",
    "            index += 1\n",
    "        return str1[:-1]\n",
    "    def __len__(self):\n",
    "        return len(self.vec)\n",
    "v1=Vector([1,4,6])\n",
    "print(v1)\n",
    "print(len(v1))"
   ]
  }
 ],
 "metadata": {
  "kernelspec": {
   "display_name": "Python 3",
   "language": "python",
   "name": "python3"
  },
  "language_info": {
   "codemirror_mode": {
    "name": "ipython",
    "version": 3
   },
   "file_extension": ".py",
   "mimetype": "text/x-python",
   "name": "python",
   "nbconvert_exporter": "python",
   "pygments_lexer": "ipython3",
   "version": "3.8.8"
  }
 },
 "nbformat": 4,
 "nbformat_minor": 5
}
