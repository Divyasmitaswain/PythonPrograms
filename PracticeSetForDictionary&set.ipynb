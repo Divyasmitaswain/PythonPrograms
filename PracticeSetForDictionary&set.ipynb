{
 "cells": [
  {
   "cell_type": "markdown",
   "id": "8e6e5f72",
   "metadata": {},
   "source": [
    "Q1.Write a python program to creat a dictionary of hindi words with value as their English translation .provide the user with an option to look it up."
   ]
  },
  {
   "cell_type": "code",
   "execution_count": 3,
   "id": "51e74723",
   "metadata": {},
   "outputs": [
    {
     "name": "stdout",
     "output_type": "stream",
     "text": [
      "Options are : dict_keys(['Pankha', 'Bistar', 'Kursi', 'Darwaja', 'Khidki'])\n",
      "Enter the hindi word:selfrr\n",
      "The meaning of your word is : None\n"
     ]
    }
   ],
   "source": [
    "MyDict={\n",
    "    \"Pankha\":\"Fan\",\n",
    "    \"Bistar\":\"Bed\",\n",
    "    \"Kursi\":\"Chair\",\n",
    "    \"Darwaja\":\"Door\",\n",
    "    \"Khidki\":\"Window\"\n",
    "}\n",
    "print(\"Options are :\",MyDict.keys())\n",
    "a=input(\"Enter the hindi word:\")\n",
    "# print(\"The meaning of your word is :\",MyDict[a])\n",
    "#In this way we can ignore the error if the word is not present in the dictionary.\n",
    "print(\"The meaning of your word is :\",MyDict.get(a))"
   ]
  },
  {
   "cell_type": "markdown",
   "id": "1005882f",
   "metadata": {},
   "source": [
    "Q2. Write a python Program to take eight inputs from the user and display all the unique numbers once."
   ]
  },
  {
   "cell_type": "code",
   "execution_count": 4,
   "id": "143c1ad3",
   "metadata": {},
   "outputs": [
    {
     "name": "stdout",
     "output_type": "stream",
     "text": [
      "Enter the number:4\n",
      "Enter the number:5\n",
      "Enter the number:6\n",
      "Enter the number:7\n",
      "Enter the number:3\n",
      "Enter the number:4\n",
      "Enter the number:5\n",
      "Enter the number:1\n",
      "{1, 3, 4, 5, 6, 7}\n"
     ]
    }
   ],
   "source": [
    "#Unique numbers means set.\n",
    "num1=int(input(\"Enter the number:\"))\n",
    "num2=int(input(\"Enter the number:\"))\n",
    "num3=int(input(\"Enter the number:\"))\n",
    "num4=int(input(\"Enter the number:\"))\n",
    "num5=int(input(\"Enter the number:\"))\n",
    "num6=int(input(\"Enter the number:\"))\n",
    "num7=int(input(\"Enter the number:\"))\n",
    "num8=int(input(\"Enter the number:\"))\n",
    "SET={num1,num2,num3,num4,num5,num6,num7,num8}\n",
    "print(SET)"
   ]
  },
  {
   "cell_type": "markdown",
   "id": "0882d4fb",
   "metadata": {},
   "source": [
    "Q3.Can we have a 18 as integer and 18 as string ?"
   ]
  },
  {
   "cell_type": "code",
   "execution_count": 8,
   "id": "1e934a87",
   "metadata": {},
   "outputs": [
    {
     "name": "stdout",
     "output_type": "stream",
     "text": [
      "{'18', 18}\n"
     ]
    }
   ],
   "source": [
    "s={18,\"18\",18.0}\n",
    "print(s)    # Yes."
   ]
  },
  {
   "cell_type": "markdown",
   "id": "6d050e94",
   "metadata": {},
   "source": [
    "Q4.What will be the length of following set s.\n",
    "s=set()\n",
    "s.add(20)\n",
    "s.add(20.1)\n",
    "s.add(\"20\")"
   ]
  },
  {
   "cell_type": "code",
   "execution_count": 11,
   "id": "8ae44176",
   "metadata": {},
   "outputs": [
    {
     "name": "stdout",
     "output_type": "stream",
     "text": [
      "{'20', 20}\n",
      "2\n",
      "{'20', 20, 20.1}\n",
      "3\n"
     ]
    }
   ],
   "source": [
    "s=set()\n",
    "s.add(20)\n",
    "s.add(20.0)\n",
    "s.add(\"20\")\n",
    "print(s)\n",
    "print(len(s))    #in python 20 & 20.0 considerd as same.\n",
    "s.add(20.1)\n",
    "print(s)\n",
    "print(len(s))    #20.1 is not same as 20 so thats why it print."
   ]
  },
  {
   "cell_type": "markdown",
   "id": "118d4121",
   "metadata": {},
   "source": [
    "Q5. If s={}. then what is the type of s."
   ]
  },
  {
   "cell_type": "code",
   "execution_count": 13,
   "id": "072c77c5",
   "metadata": {},
   "outputs": [
    {
     "name": "stdout",
     "output_type": "stream",
     "text": [
      "<class 'dict'>\n",
      "<class 'set'>\n"
     ]
    }
   ],
   "source": [
    "s={}\n",
    "print(type(s))  #this is an empty dictionary.\n",
    "s=set()\n",
    "print(type(s))   #this is an empty set."
   ]
  },
  {
   "cell_type": "markdown",
   "id": "8d60afb3",
   "metadata": {},
   "source": [
    "Q6. Creat an empty dictionary .Allow 4 friends to enter their favorite language as values and use keys as their names.Assume that the names are unique."
   ]
  },
  {
   "cell_type": "code",
   "execution_count": 16,
   "id": "6cea2402",
   "metadata": {},
   "outputs": [
    {
     "name": "stdout",
     "output_type": "stream",
     "text": [
      "Enter your favorite language Divya:python\n",
      "Enter your favorite language Minal:java\n",
      "Enter your favorite language Shreya:python\n",
      "Enter your favorite language Richa:java\n",
      "{'Divya': 'python', 'Minal': 'java', 'Shreya': 'python', 'Richa': 'java'}\n"
     ]
    }
   ],
   "source": [
    "favLang={}\n",
    "a=input(\"Enter your favorite language Divya:\")\n",
    "b=input(\"Enter your favorite language Minal:\")\n",
    "c=input(\"Enter your favorite language Shreya:\")\n",
    "d=input(\"Enter your favorite language Richa:\")\n",
    "favLang[\"Divya\"]=a\n",
    "favLang[\"Minal\"]=b\n",
    "favLang[\"Shreya\"]=c\n",
    "favLang[\"Richa\"]=d\n",
    "print(favLang)"
   ]
  },
  {
   "cell_type": "markdown",
   "id": "1d81e0ba",
   "metadata": {},
   "source": [
    "Q7. In Q6 if 2 friends name are same then what will happen."
   ]
  },
  {
   "cell_type": "code",
   "execution_count": 18,
   "id": "853bd096",
   "metadata": {},
   "outputs": [
    {
     "name": "stdout",
     "output_type": "stream",
     "text": [
      "Enter your favorite language Divya:java\n",
      "Enter your favorite language Minal:python\n",
      "Enter your favorite language Divya:c#\n",
      "Enter your favorite language Richa:c++\n",
      "{'Divya': 'c#', 'Minal': 'python', 'Richa': 'c++'}\n"
     ]
    }
   ],
   "source": [
    "favLang={}\n",
    "a=input(\"Enter your favorite language Divya:\")\n",
    "b=input(\"Enter your favorite language Minal:\")\n",
    "c=input(\"Enter your favorite language Divya:\")\n",
    "d=input(\"Enter your favorite language Richa:\")\n",
    "favLang[\"Divya\"]=a\n",
    "favLang[\"Minal\"]=b\n",
    "favLang[\"Divya\"]=c\n",
    "favLang[\"Richa\"]=d\n",
    "print(favLang)      #it just ignores the repetative key value."
   ]
  },
  {
   "cell_type": "markdown",
   "id": "640bdca5",
   "metadata": {},
   "source": [
    "Q8. Can we change the value inside a list which is contained in set s.\n",
    "s={8,7,12,\"divya\",[1,2]}"
   ]
  },
  {
   "cell_type": "code",
   "execution_count": 19,
   "id": "48d764b1",
   "metadata": {},
   "outputs": [
    {
     "ename": "TypeError",
     "evalue": "unhashable type: 'list'",
     "output_type": "error",
     "traceback": [
      "\u001b[1;31m---------------------------------------------------------------------------\u001b[0m",
      "\u001b[1;31mTypeError\u001b[0m                                 Traceback (most recent call last)",
      "\u001b[1;32m<ipython-input-19-655ad08de9ef>\u001b[0m in \u001b[0;36m<module>\u001b[1;34m\u001b[0m\n\u001b[1;32m----> 1\u001b[1;33m \u001b[0ms\u001b[0m\u001b[1;33m=\u001b[0m\u001b[1;33m{\u001b[0m\u001b[1;36m8\u001b[0m\u001b[1;33m,\u001b[0m\u001b[1;36m7\u001b[0m\u001b[1;33m,\u001b[0m\u001b[1;36m12\u001b[0m\u001b[1;33m,\u001b[0m\u001b[1;34m\"divya\"\u001b[0m\u001b[1;33m,\u001b[0m\u001b[1;33m[\u001b[0m\u001b[1;36m1\u001b[0m\u001b[1;33m,\u001b[0m\u001b[1;36m2\u001b[0m\u001b[1;33m]\u001b[0m\u001b[1;33m}\u001b[0m\u001b[1;33m\u001b[0m\u001b[1;33m\u001b[0m\u001b[0m\n\u001b[0m\u001b[0;32m      2\u001b[0m \u001b[0mprint\u001b[0m\u001b[1;33m(\u001b[0m\u001b[0ms\u001b[0m\u001b[1;33m)\u001b[0m\u001b[1;33m\u001b[0m\u001b[1;33m\u001b[0m\u001b[0m\n",
      "\u001b[1;31mTypeError\u001b[0m: unhashable type: 'list'"
     ]
    }
   ],
   "source": [
    "s={8,7,12,\"divya\",[1,2]}\n",
    "print(s)# first of all we can't store list in set.\n",
    "        # secondly , we can't access & change the element inside the set."
   ]
  }
 ],
 "metadata": {
  "kernelspec": {
   "display_name": "Python 3",
   "language": "python",
   "name": "python3"
  },
  "language_info": {
   "codemirror_mode": {
    "name": "ipython",
    "version": 3
   },
   "file_extension": ".py",
   "mimetype": "text/x-python",
   "name": "python",
   "nbconvert_exporter": "python",
   "pygments_lexer": "ipython3",
   "version": "3.8.8"
  }
 },
 "nbformat": 4,
 "nbformat_minor": 5
}
