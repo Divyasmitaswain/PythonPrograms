{
 "cells": [
  {
   "cell_type": "markdown",
   "id": "36a5873b",
   "metadata": {},
   "source": [
    "# Loop Programs"
   ]
  },
  {
   "cell_type": "code",
   "execution_count": 1,
   "id": "ad547f91",
   "metadata": {},
   "outputs": [
    {
     "name": "stdout",
     "output_type": "stream",
     "text": [
      "D\n",
      "i\n",
      "v\n",
      "y\n",
      "a\n",
      "s\n",
      "m\n",
      "i\n",
      "t\n",
      "a\n",
      " \n",
      "S\n",
      "w\n",
      "a\n",
      "i\n",
      "n\n"
     ]
    }
   ],
   "source": [
    "str=\"Divyasmita Swain\"\n",
    "for x in str:\n",
    "    print(x)"
   ]
  },
  {
   "cell_type": "code",
   "execution_count": 2,
   "id": "dfcbd169",
   "metadata": {},
   "outputs": [
    {
     "name": "stdout",
     "output_type": "stream",
     "text": [
      "91\n",
      "78\n",
      "889\n",
      "55\n",
      "790\n"
     ]
    }
   ],
   "source": [
    "list=[90,77,888,54,789]\n",
    "for j in list:\n",
    "    c=j+1\n",
    "    print(c)"
   ]
  },
  {
   "cell_type": "code",
   "execution_count": 4,
   "id": "0cc1e7a3",
   "metadata": {},
   "outputs": [
    {
     "name": "stdout",
     "output_type": "stream",
     "text": [
      "180\n",
      "154\n",
      "1776\n",
      "108\n",
      "1578\n",
      "1578\n"
     ]
    }
   ],
   "source": [
    "list=[90,77,888,54,789]\n",
    "for j in list:\n",
    "    c=j*2\n",
    "    print(c)\n",
    "print(c)    "
   ]
  },
  {
   "cell_type": "code",
   "execution_count": 5,
   "id": "97e0fa77",
   "metadata": {},
   "outputs": [
    {
     "name": "stdout",
     "output_type": "stream",
     "text": [
      "The sum is: 183\n"
     ]
    }
   ],
   "source": [
    "list=[10,30,23,43,65,12]\n",
    "sum=0\n",
    "for i in list:\n",
    "    sum=sum+i\n",
    "print(\"The sum is:\",sum)    "
   ]
  },
  {
   "cell_type": "code",
   "execution_count": 6,
   "id": "006efc49",
   "metadata": {},
   "outputs": [
    {
     "name": "stdout",
     "output_type": "stream",
     "text": [
      "0 1 2 3 4 5 6 7 8 9 10 11 12 13 14 15 16 17 18 19 "
     ]
    }
   ],
   "source": [
    "for i in range(20):\n",
    "    print(i,end=' ')"
   ]
  },
  {
   "cell_type": "code",
   "execution_count": 7,
   "id": "caed0321",
   "metadata": {},
   "outputs": [
    {
     "name": "stdout",
     "output_type": "stream",
     "text": [
      "Enter the number for your multiplication table :10\n",
      "10 * 2 = 20\n",
      "10 * 3 = 30\n",
      "10 * 4 = 40\n",
      "10 * 5 = 50\n",
      "10 * 6 = 60\n",
      "10 * 7 = 70\n",
      "10 * 8 = 80\n",
      "10 * 9 = 90\n",
      "10 * 10 = 100\n"
     ]
    }
   ],
   "source": [
    "#WAP to print a multiplication table for a number given by user\n",
    "l=int(input(\"Enter the number for your multiplication table :\"))\n",
    "for i in range(2,11):\n",
    "    c=l*i\n",
    "    print(l,\"*\",i,\"=\",c)"
   ]
  },
  {
   "cell_type": "code",
   "execution_count": 10,
   "id": "50c1dcbd",
   "metadata": {},
   "outputs": [
    {
     "name": "stdout",
     "output_type": "stream",
     "text": [
      "Enter the number: 20\n",
      "2\n",
      "4\n",
      "6\n",
      "8\n",
      "10\n",
      "12\n",
      "14\n",
      "16\n",
      "18\n"
     ]
    }
   ],
   "source": [
    "#WAP to print even numbers upto given by user\n",
    "even=int(input(\"Enter the number: \"))\n",
    "for i in range(2,even,2):\n",
    "    print(i)"
   ]
  },
  {
   "cell_type": "code",
   "execution_count": 11,
   "id": "1b102cef",
   "metadata": {},
   "outputs": [
    {
     "name": "stdout",
     "output_type": "stream",
     "text": [
      "Namaste Divya\n",
      "Namaste Minal\n",
      "Namaste Richa\n",
      "Namaste Shreya\n"
     ]
    }
   ],
   "source": [
    "list=[\"Divya\",\"Minal\",\"Richa\",\"Shreya\"]\n",
    "for i in range(len(list)):\n",
    "    print(\"Namaste\",list[i])"
   ]
  },
  {
   "cell_type": "code",
   "execution_count": 12,
   "id": "51a781f4",
   "metadata": {},
   "outputs": [
    {
     "name": "stdout",
     "output_type": "stream",
     "text": [
      "Enter rows: 5\n",
      "\n",
      "*\n",
      "**\n",
      "***\n",
      "****\n",
      "*****\n"
     ]
    }
   ],
   "source": [
    "rows=int(input(\"Enter rows: \"))\n",
    "for i in range (0,rows+1):\n",
    "    for j in range(i):\n",
    "        print(\"*\",end='')\n",
    "    print()    "
   ]
  },
  {
   "cell_type": "code",
   "execution_count": 13,
   "id": "c1b794fe",
   "metadata": {},
   "outputs": [
    {
     "name": "stdout",
     "output_type": "stream",
     "text": [
      "Enter the number of rows: 7\n",
      "\n",
      "1\n",
      "22\n",
      "333\n",
      "4444\n",
      "55555\n",
      "666666\n",
      "7777777\n"
     ]
    }
   ],
   "source": [
    "rows=int(input(\"Enter the number of rows: \"))\n",
    "for i in range(0,rows+1):\n",
    "    for j in range(i):\n",
    "        print(i,end='')\n",
    "    print()    "
   ]
  },
  {
   "cell_type": "code",
   "execution_count": null,
   "id": "c6505499",
   "metadata": {},
   "outputs": [],
   "source": []
  }
 ],
 "metadata": {
  "kernelspec": {
   "display_name": "Python 3",
   "language": "python",
   "name": "python3"
  },
  "language_info": {
   "codemirror_mode": {
    "name": "ipython",
    "version": 3
   },
   "file_extension": ".py",
   "mimetype": "text/x-python",
   "name": "python",
   "nbconvert_exporter": "python",
   "pygments_lexer": "ipython3",
   "version": "3.8.8"
  }
 },
 "nbformat": 4,
 "nbformat_minor": 5
}
