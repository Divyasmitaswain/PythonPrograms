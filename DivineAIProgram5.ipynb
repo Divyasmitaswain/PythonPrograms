{
 "cells": [
  {
   "cell_type": "markdown",
   "id": "2be3759c",
   "metadata": {},
   "source": [
    "Q1.WAPP to count the number of each vowel ."
   ]
  },
  {
   "cell_type": "code",
   "execution_count": 2,
   "id": "e6772af6",
   "metadata": {},
   "outputs": [
    {
     "name": "stdout",
     "output_type": "stream",
     "text": [
      "{'a': 1, 'e': 4, 'i': 3, 'o': 3, 'u': 1}\n"
     ]
    }
   ],
   "source": [
    "vowel=\"aeiou\"\n",
    "myStr=\"Hello ,I'm Divya!,Nice to meet you .\"\n",
    "myStr=myStr.casefold()\n",
    "count={}.fromkeys(vowel,0)\n",
    "for char in myStr:\n",
    "    if char in count:\n",
    "        count[char]+=1\n",
    "print(count)        "
   ]
  },
  {
   "cell_type": "markdown",
   "id": "b966fa3b",
   "metadata": {},
   "source": [
    "Q2.WAPP to count the number of each vowel using a list and dicstionary comprehension."
   ]
  },
  {
   "cell_type": "code",
   "execution_count": 3,
   "id": "15a6dd0c",
   "metadata": {},
   "outputs": [
    {
     "name": "stdout",
     "output_type": "stream",
     "text": [
      "{'a': 1, 'e': 4, 'i': 3, 'o': 3, 'u': 1}\n"
     ]
    }
   ],
   "source": [
    "myStr=\"Hello ,I'm Divya!,Nice to meet you .\"\n",
    "myStr=myStr.casefold()\n",
    "count={x:sum([1 for char in myStr if char==x]) for x in \"aeiou\"}\n",
    "print(count)"
   ]
  },
  {
   "cell_type": "markdown",
   "id": "fb02883d",
   "metadata": {},
   "source": [
    "Q3.WAPP given a string ,find the length of the longest substring without repeating characters."
   ]
  },
  {
   "cell_type": "code",
   "execution_count": 8,
   "id": "adef6a6a",
   "metadata": {},
   "outputs": [
    {
     "name": "stdout",
     "output_type": "stream",
     "text": [
      "Input string: Welcome to my page\n",
      "The length of the longest sub string without non repeating characters is : 6\n"
     ]
    }
   ],
   "source": [
    "def longsubstring(str):\n",
    "    n=len(str)\n",
    "    res=0\n",
    "    for i in range(n):\n",
    "        visited=[0]*256\n",
    "        for j in range(i,n):\n",
    "            if(visited[ord(str[j])]==True):\n",
    "                \n",
    "                break\n",
    "            else:\n",
    "                res =max(res,j-i+1)\n",
    "                visited[ord(str[j])]=True\n",
    "                \n",
    "        visited[ord(str[i])]=False   \n",
    "        return res\n",
    "str=\"Welcome to my page\"\n",
    "print(\"Input string:\",str)\n",
    "len=longsubstring(str)\n",
    "print(\"The length of the longest sub string without non repeating characters is :\",len)"
   ]
  },
  {
   "cell_type": "markdown",
   "id": "e7c1b9a6",
   "metadata": {},
   "source": [
    "Q4.WAPP to rotate an array of n elements to the right by k steps."
   ]
  },
  {
   "cell_type": "code",
   "execution_count": 1,
   "id": "1274a486",
   "metadata": {},
   "outputs": [
    {
     "name": "stdout",
     "output_type": "stream",
     "text": [
      "Array after the left rotation is: [50, 70, 90, 10, 20]\n"
     ]
    }
   ],
   "source": [
    "def rotatearray(arr,n,k):\n",
    "    temp=[]\n",
    "    i=0\n",
    "    while(i<k):\n",
    "        temp.append(arr[i])\n",
    "        i=i+1\n",
    "    i=0\n",
    "    while(k<n):\n",
    "        arr[i]=arr[k]\n",
    "        i=i+1\n",
    "        k=k+1\n",
    "    arr[:]=arr[:i]+temp\n",
    "    return arr\n",
    "\n",
    "arr=[10,20,50,70,90]\n",
    "print(\"Array after the left rotation is:\",end=' ')\n",
    "print(rotatearray(arr,len(arr),2))"
   ]
  },
  {
   "cell_type": "markdown",
   "id": "855cb9cf",
   "metadata": {},
   "source": [
    "Q5.WAPP to given a list slice it into a 3 equal chunks and revert each list."
   ]
  },
  {
   "cell_type": "code",
   "execution_count": 2,
   "id": "0fbdc339",
   "metadata": {},
   "outputs": [
    {
     "name": "stdout",
     "output_type": "stream",
     "text": [
      "[[10, 70, 80], [60, 20, 88], [99, 66]]\n"
     ]
    }
   ],
   "source": [
    "mylist=[10,70,80,60,20,88,99,66]\n",
    "n=3\n",
    "final=[mylist[i*n:(i+1)*n] for i in range ((len(mylist)+n-1)//n)]\n",
    "print(final)"
   ]
  },
  {
   "cell_type": "markdown",
   "id": "012c8af3",
   "metadata": {},
   "source": [
    "Q6.WAPP to calculate exponents of a given input."
   ]
  },
  {
   "cell_type": "code",
   "execution_count": null,
   "id": "c29d787f",
   "metadata": {},
   "outputs": [
    {
     "name": "stdout",
     "output_type": "stream",
     "text": [
      "Enter a positive integer:18\n"
     ]
    }
   ],
   "source": [
    "num=int(input(\"Enter a positive integer:\"))\n",
    "exponent=int(input(\"Enter the exponent value:\"))\n",
    "power=1\n",
    "\n",
    "for i in range(1,exponent+1):\n",
    "    power=power*num\n",
    "    \n",
    "print(\"The result of {0} power {1} ={2}\".format(num,exponent,power))    "
   ]
  },
  {
   "cell_type": "markdown",
   "id": "fce1b184",
   "metadata": {},
   "source": [
    "Q7.WAPP to multiply two matrix."
   ]
  },
  {
   "cell_type": "code",
   "execution_count": 4,
   "id": "4c9ffa0e",
   "metadata": {},
   "outputs": [
    {
     "name": "stdout",
     "output_type": "stream",
     "text": [
      "[4, 10, 18]\n",
      "[7, 16, 27]\n",
      "[28, 40, 54]\n"
     ]
    }
   ],
   "source": [
    "X=[[1,2,3],\n",
    "   [7,8,9],\n",
    "   [4,5,6]]\n",
    "Y=[[4,5,6],\n",
    "   [1,2,3],\n",
    "   [7,8,9]]\n",
    "res=[[0,0,0],\n",
    "    [0,0,0],\n",
    "    [0,0,0]]\n",
    "for i in range (len(X)):\n",
    "    for j in range(len(X[0])):\n",
    "        res[i][j]=X[i][j]*Y[i][j]\n",
    "for r in res:\n",
    "    print(r)"
   ]
  },
  {
   "cell_type": "markdown",
   "id": "1eb2f1a0",
   "metadata": {},
   "source": [
    "Q8.WAPP to find and print the reminder of two number."
   ]
  },
  {
   "cell_type": "code",
   "execution_count": 5,
   "id": "da9df496",
   "metadata": {},
   "outputs": [
    {
     "name": "stdout",
     "output_type": "stream",
     "text": [
      "Reminder: 1\n"
     ]
    }
   ],
   "source": [
    "def find(n,m):\n",
    "    r=n%m\n",
    "    print(\"Reminder:\",r)\n",
    "find(10,3)    "
   ]
  },
  {
   "cell_type": "markdown",
   "id": "2e1762b5",
   "metadata": {},
   "source": [
    "Q9.WAPP to compute sum of digits in number."
   ]
  },
  {
   "cell_type": "code",
   "execution_count": 6,
   "id": "ad0571c1",
   "metadata": {},
   "outputs": [
    {
     "name": "stdout",
     "output_type": "stream",
     "text": [
      "8\n"
     ]
    }
   ],
   "source": [
    "def sumdigits(no):\n",
    "    return 0 if no==0 else int(no %5)+ sumdigits(int(no/5))\n",
    "print(sumdigits(68))"
   ]
  },
  {
   "cell_type": "markdown",
   "id": "3da77771",
   "metadata": {},
   "source": [
    "Q10.WAPP to sort the list in ascending order."
   ]
  },
  {
   "cell_type": "code",
   "execution_count": 8,
   "id": "b1cdec69",
   "metadata": {},
   "outputs": [
    {
     "name": "stdout",
     "output_type": "stream",
     "text": [
      "['divya', 'minal', 'richa', 'shreya']\n"
     ]
    }
   ],
   "source": [
    "str=[\"minal\",\"shreya\",\"richa\",\"divya\"]\n",
    "str.sort()\n",
    "print(str)"
   ]
  }
 ],
 "metadata": {
  "kernelspec": {
   "display_name": "Python 3",
   "language": "python",
   "name": "python3"
  },
  "language_info": {
   "codemirror_mode": {
    "name": "ipython",
    "version": 3
   },
   "file_extension": ".py",
   "mimetype": "text/x-python",
   "name": "python",
   "nbconvert_exporter": "python",
   "pygments_lexer": "ipython3",
   "version": "3.8.8"
  }
 },
 "nbformat": 4,
 "nbformat_minor": 5
}
