{
 "cells": [
  {
   "cell_type": "code",
   "execution_count": 2,
   "id": "e82da24b",
   "metadata": {},
   "outputs": [
    {
     "name": "stdout",
     "output_type": "stream",
     "text": [
      "GOOD MORNING! DIVYA\n"
     ]
    }
   ],
   "source": [
    "#concatenation operation in string \n",
    "a=\"GOOD MORNING!\"\n",
    "b=\" DIVYA\"\n",
    "print(a+b)"
   ]
  },
  {
   "cell_type": "code",
   "execution_count": 3,
   "id": "dd338d52",
   "metadata": {},
   "outputs": [
    {
     "name": "stdout",
     "output_type": "stream",
     "text": [
      "D\n"
     ]
    }
   ],
   "source": [
    "#String index\n",
    "name=\"Divya\"\n",
    "print(name[0])   #in python index value start with 0.in this way we can access every character of a string"
   ]
  },
  {
   "cell_type": "code",
   "execution_count": 4,
   "id": "68185469",
   "metadata": {},
   "outputs": [
    {
     "ename": "TypeError",
     "evalue": "'str' object does not support item assignment",
     "output_type": "error",
     "traceback": [
      "\u001b[1;31m---------------------------------------------------------------------------\u001b[0m",
      "\u001b[1;31mTypeError\u001b[0m                                 Traceback (most recent call last)",
      "\u001b[1;32m<ipython-input-4-be68fdffeeea>\u001b[0m in \u001b[0;36m<module>\u001b[1;34m\u001b[0m\n\u001b[1;32m----> 1\u001b[1;33m \u001b[0mname\u001b[0m\u001b[1;33m[\u001b[0m\u001b[1;36m3\u001b[0m\u001b[1;33m]\u001b[0m\u001b[1;33m=\u001b[0m\u001b[1;34m\"d\"\u001b[0m\u001b[1;33m\u001b[0m\u001b[1;33m\u001b[0m\u001b[0m\n\u001b[0m\u001b[0;32m      2\u001b[0m \u001b[0mprint\u001b[0m\u001b[1;33m(\u001b[0m\u001b[0mname\u001b[0m\u001b[1;33m)\u001b[0m\u001b[1;33m\u001b[0m\u001b[1;33m\u001b[0m\u001b[0m\n",
      "\u001b[1;31mTypeError\u001b[0m: 'str' object does not support item assignment"
     ]
    }
   ],
   "source": [
    "name[3]=\"d\"\n",
    "print(name) # we can access the chacter but we can't change the character."
   ]
  },
  {
   "cell_type": "code",
   "execution_count": 7,
   "id": "5dc1d41b",
   "metadata": {},
   "outputs": [
    {
     "name": "stdout",
     "output_type": "stream",
     "text": [
      "Divy\n",
      "Div\n"
     ]
    }
   ],
   "source": [
    "#string slicing\n",
    "print(name[0:4])  #first including last excluding\n",
    "print(name[:3])   #is same as name[0:4]\n",
    "print(name[0:])   #is same asname[0:len-1]"
   ]
  },
  {
   "cell_type": "code",
   "execution_count": 6,
   "id": "518d0d7c",
   "metadata": {},
   "outputs": [
    {
     "name": "stdout",
     "output_type": "stream",
     "text": [
      "5\n"
     ]
    }
   ],
   "source": [
    "#length of String\n",
    "print(len(name))  #we can use len() fuction to print length of the function"
   ]
  },
  {
   "cell_type": "code",
   "execution_count": 10,
   "id": "3cd6083f",
   "metadata": {},
   "outputs": [
    {
     "name": "stdout",
     "output_type": "stream",
     "text": [
      "Divy\n"
     ]
    }
   ],
   "source": [
    "#Negative index of string \n",
    "# why we use negative index in string?\n",
    "'''some times we dont know the len of a string so in that situation negative index are very useful'''\n",
    "print(name[:-1])"
   ]
  },
  {
   "cell_type": "code",
   "execution_count": 11,
   "id": "ac0c92d5",
   "metadata": {},
   "outputs": [
    {
     "name": "stdout",
     "output_type": "stream",
     "text": [
      "Dvasod\n"
     ]
    }
   ],
   "source": [
    "#slicing with skip value in string\n",
    "name=\"DivyaIsGood\"\n",
    "print(name[0::2])  # 2is the skip value ,it skips every second character of the string."
   ]
  },
  {
   "cell_type": "code",
   "execution_count": 12,
   "id": "9b807459",
   "metadata": {},
   "outputs": [
    {
     "name": "stdout",
     "output_type": "stream",
     "text": [
      "iaG\n"
     ]
    }
   ],
   "source": [
    "print(name[1:9:3] ) # 3is the skip value ,it skips every third character between index 1 to 9 of the string."
   ]
  },
  {
   "cell_type": "code",
   "execution_count": 13,
   "id": "3b0d478f",
   "metadata": {},
   "outputs": [
    {
     "name": "stdout",
     "output_type": "stream",
     "text": [
      "79\n"
     ]
    }
   ],
   "source": [
    "#String Functions.\n",
    "Story=\"Once upon a time there is a youtuber named divya diary makes really good vlogs.\"\n",
    "print(len(Story))"
   ]
  },
  {
   "cell_type": "code",
   "execution_count": 17,
   "id": "adde64e6",
   "metadata": {},
   "outputs": [
    {
     "name": "stdout",
     "output_type": "stream",
     "text": [
      "False\n",
      "False\n",
      "True\n",
      "True\n"
     ]
    }
   ],
   "source": [
    "print(Story.endswith(\"notes\"))   #returns boolean value.\n",
    "print(Story.endswith(\"Vlogs\"))\n",
    "print(Story.endswith(\"vlogs.\"))\n",
    "print(Story.endswith(\".\"))"
   ]
  },
  {
   "cell_type": "code",
   "execution_count": null,
   "id": "9127d060",
   "metadata": {},
   "outputs": [],
   "source": []
  }
 ],
 "metadata": {
  "kernelspec": {
   "display_name": "Python 3",
   "language": "python",
   "name": "python3"
  },
  "language_info": {
   "codemirror_mode": {
    "name": "ipython",
    "version": 3
   },
   "file_extension": ".py",
   "mimetype": "text/x-python",
   "name": "python",
   "nbconvert_exporter": "python",
   "pygments_lexer": "ipython3",
   "version": "3.8.8"
  }
 },
 "nbformat": 4,
 "nbformat_minor": 5
}
